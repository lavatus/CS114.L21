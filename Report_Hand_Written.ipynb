{
  "nbformat": 4,
  "nbformat_minor": 0,
  "metadata": {
    "colab": {
      "name": "Report_Hand_Written.ipynb",
      "provenance": [],
      "collapsed_sections": [],
      "toc_visible": true,
      "include_colab_link": true
    },
    "kernelspec": {
      "name": "python3",
      "display_name": "Python 3"
    },
    "language_info": {
      "name": "python"
    }
  },
  "cells": [
    {
      "cell_type": "markdown",
      "metadata": {
        "id": "view-in-github",
        "colab_type": "text"
      },
      "source": [
        "<a href=\"https://colab.research.google.com/github/lavatus/CS114.L21/blob/main/Report_Hand_Written.ipynb\" target=\"_parent\"><img src=\"https://colab.research.google.com/assets/colab-badge.svg\" alt=\"Open In Colab\"/></a>"
      ]
    },
    {
      "cell_type": "markdown",
      "metadata": {
        "id": "mO-JoI1-1bMr"
      },
      "source": [
        "# 1) Đề bài\n",
        "Yêu cầu code: tạo một notebook colab với các đoạn code và chú thích cần thiết để thực hiện công việc sau:\n",
        "* Train model cho bài toán hand-written digits recognition theo example của sklearn: https://scikit-learn.org/stable/auto_examples/classification/plot_digits_classification.html#sphx-glr-auto-examples-classification-plot-digits-classification-py\n",
        "* Truy cập webcam của máy tính từ colab.\n",
        "* Chụp ảnh một tờ giấy đang được giơ ra trước webcam\n",
        "* Nhận dạng xem chữ số đang viết trên tờ giấy là số mấy.\n",
        "\n",
        "Yêu cầu phân tích: Thông qua thực nghiệm chạy thử nhiều lần trả lời các câu hỏi sau:\n",
        "* Kết quả chạy thực tế với webcam của laptop và giấy viết tay của các bạn có tốt không?\n",
        "* Ủa mà nhìn vào đâu để kết luận là tốt hay không?\n",
        "* Nếu không tốt thì lý do tại sao?\n",
        "* Nếu tốt thì tiếp theo có thể dùng model digits recognition này vào các bài toán phức tạp hơn như nhận dạng biển số nhà không?"
      ]
    },
    {
      "cell_type": "markdown",
      "metadata": {
        "id": "FHgkpm39YNo-"
      },
      "source": [
        "# 2) Nhóm thực hiện\n",
        "* Nguyễn Trung Tuấn - 19522477\n",
        "* Dương Nguyễn Thuận - 19522312\n",
        "* Nguyễn Việt Thư - 19522359"
      ]
    },
    {
      "cell_type": "markdown",
      "metadata": {
        "id": "M4wbCbCNYq1U"
      },
      "source": [
        "# 3) Code"
      ]
    },
    {
      "cell_type": "code",
      "metadata": {
        "colab": {
          "base_uri": "https://localhost:8080/"
        },
        "id": "iLsazk8j0pzf",
        "outputId": "355af1af-1200-40d1-fa2f-bf1a36b5c59d"
      },
      "source": [
        "print(__doc__)\n",
        "\n",
        "# Author: Gael Varoquaux <gael dot varoquaux at normalesup dot org>\n",
        "# License: BSD 3 clause\n",
        "\n",
        "# Standard scientific Python imports\n",
        "import matplotlib.pyplot as plt\n",
        "import numpy as np\n",
        "\n",
        "# Import datasets, classifiers and performance metrics\n",
        "from sklearn import datasets, svm, metrics\n",
        "from sklearn.model_selection import train_test_split\n"
      ],
      "execution_count": 1,
      "outputs": [
        {
          "output_type": "stream",
          "text": [
            "Automatically created module for IPython interactive environment\n"
          ],
          "name": "stdout"
        }
      ]
    },
    {
      "cell_type": "markdown",
      "metadata": {
        "id": "Jz7S33RqTzMD"
      },
      "source": [
        "## Kiểm tra xem miền giá trị của pixel"
      ]
    },
    {
      "cell_type": "code",
      "metadata": {
        "id": "TulGk4FBTugH"
      },
      "source": [
        "digits = datasets.load_digits()"
      ],
      "execution_count": 2,
      "outputs": []
    },
    {
      "cell_type": "code",
      "metadata": {
        "colab": {
          "base_uri": "https://localhost:8080/"
        },
        "id": "d3d5jcjd2m0O",
        "outputId": "7c0b03fb-847c-427c-fdee-1d88790b9ccb"
      },
      "source": [
        "print(digits.images[0])"
      ],
      "execution_count": 3,
      "outputs": [
        {
          "output_type": "stream",
          "text": [
            "[[ 0.  0.  5. 13.  9.  1.  0.  0.]\n",
            " [ 0.  0. 13. 15. 10. 15.  5.  0.]\n",
            " [ 0.  3. 15.  2.  0. 11.  8.  0.]\n",
            " [ 0.  4. 12.  0.  0.  8.  8.  0.]\n",
            " [ 0.  5.  8.  0.  0.  9.  8.  0.]\n",
            " [ 0.  4. 11.  0.  1. 12.  7.  0.]\n",
            " [ 0.  2. 14.  5. 10. 12.  0.  0.]\n",
            " [ 0.  0.  6. 13. 10.  0.  0.  0.]]\n"
          ],
          "name": "stdout"
        }
      ]
    },
    {
      "cell_type": "markdown",
      "metadata": {
        "id": "dd9clkL826FU"
      },
      "source": [
        "### Kết quả kiểm tra: \n",
        "* Sau khi kiểm tra chúng em nhận thấy giá trị của từng pixel trong ảnh nằm trong đoạn từ 0 đến 16 vì vậy bọn em quyết định đưa giá trị của chúng về đoạn [0,1] cho để cho model train nhanh hơn đồng thời lúc test cũng đưa ảnh về từ [0,1] cho đồng bộ"
      ]
    },
    {
      "cell_type": "code",
      "metadata": {
        "id": "jkN9x4C232S5"
      },
      "source": [
        "for i in range(len(digits.images)):\n",
        "  digits.images[i]/=np.max(digits.images[i])"
      ],
      "execution_count": 4,
      "outputs": []
    },
    {
      "cell_type": "code",
      "metadata": {
        "colab": {
          "base_uri": "https://localhost:8080/"
        },
        "id": "w-vJIHlg9Tyj",
        "outputId": "4c933046-0cca-41a4-f052-085ceb683430"
      },
      "source": [
        "print(digits.images[0])"
      ],
      "execution_count": 5,
      "outputs": [
        {
          "output_type": "stream",
          "text": [
            "[[0.         0.         0.33333333 0.86666667 0.6        0.06666667\n",
            "  0.         0.        ]\n",
            " [0.         0.         0.86666667 1.         0.66666667 1.\n",
            "  0.33333333 0.        ]\n",
            " [0.         0.2        1.         0.13333333 0.         0.73333333\n",
            "  0.53333333 0.        ]\n",
            " [0.         0.26666667 0.8        0.         0.         0.53333333\n",
            "  0.53333333 0.        ]\n",
            " [0.         0.33333333 0.53333333 0.         0.         0.6\n",
            "  0.53333333 0.        ]\n",
            " [0.         0.26666667 0.73333333 0.         0.06666667 0.8\n",
            "  0.46666667 0.        ]\n",
            " [0.         0.13333333 0.93333333 0.33333333 0.66666667 0.8\n",
            "  0.         0.        ]\n",
            " [0.         0.         0.4        0.86666667 0.66666667 0.\n",
            "  0.         0.        ]]\n"
          ],
          "name": "stdout"
        }
      ]
    },
    {
      "cell_type": "markdown",
      "metadata": {
        "id": "9sd5gaME4Gil"
      },
      "source": [
        "### Show thử hình ảnh và label của chúng"
      ]
    },
    {
      "cell_type": "code",
      "metadata": {
        "colab": {
          "base_uri": "https://localhost:8080/",
          "height": 164
        },
        "id": "kVTliX6q033b",
        "outputId": "4935a788-1af9-40e8-dff9-1153b1be6690"
      },
      "source": [
        "\n",
        "_, axes = plt.subplots(nrows=1, ncols=8, figsize=(20, 3))\n",
        "for ax, image, label in zip(axes, digits.images, digits.target):\n",
        "    ax.set_axis_off()\n",
        "    ax.imshow(image, cmap=plt.cm.gray_r, interpolation='nearest')\n",
        "    ax.set_title('Training: %i' % label)"
      ],
      "execution_count": 6,
      "outputs": [
        {
          "output_type": "display_data",
          "data": {
            "image/png": "[encoded data removed]",
            "text/plain": [
              "<Figure size 1440x216 with 8 Axes>"
            ]
          },
          "metadata": {
            "tags": [],
            "needs_background": "light"
          }
        }
      ]
    },
    {
      "cell_type": "markdown",
      "metadata": {
        "id": "XAw0ewO65yFf"
      },
      "source": [
        "## Train model"
      ]
    },
    {
      "cell_type": "code",
      "metadata": {
        "id": "-fq41Nr204eK"
      },
      "source": [
        "# flatten the images\n",
        "n_samples = len(digits.images)\n",
        "data = digits.images.reshape((n_samples, -1))\n",
        "\n",
        "# Create a classifier: a support vector classifier\n",
        "clf = svm.SVC(gamma=0.1)\n",
        "\n",
        "# Split data into 50% train and 50% test subsets\n",
        "X_train, X_test, y_train, y_test = train_test_split(\n",
        "    data, digits.target, test_size=0.5, shuffle=False)\n",
        "\n",
        "# Learn the digits on the train subset\n",
        "clf.fit(X_train, y_train)\n",
        "\n",
        "# Predict the value of the digit on the test subset\n",
        "predicted = clf.predict(X_test)"
      ],
      "execution_count": 105,
      "outputs": []
    },
    {
      "cell_type": "code",
      "metadata": {
        "colab": {
          "base_uri": "https://localhost:8080/",
          "height": 164
        },
        "id": "o9ivh2kb0_UM",
        "outputId": "30caec6b-b5a1-4fcd-81ab-a6105eec8c01"
      },
      "source": [
        "_, axes = plt.subplots(nrows=1, ncols=8, figsize=(20, 3))\n",
        "for ax, image, prediction in zip(axes, X_test, predicted):\n",
        "    ax.set_axis_off()\n",
        "    image = image.reshape(8, 8)\n",
        "    ax.imshow(image, cmap=plt.cm.gray_r, interpolation='nearest')\n",
        "    ax.set_title(f'Prediction: {prediction}')"
      ],
      "execution_count": 8,
      "outputs": [
        {
          "output_type": "display_data",
          "data": {
            "image/png": "[encoded data removed]",
            "text/plain": [
              "<Figure size 1440x216 with 8 Axes>"
            ]
          },
          "metadata": {
            "tags": [],
            "needs_background": "light"
          }
        }
      ]
    },
    {
      "cell_type": "code",
      "metadata": {
        "colab": {
          "base_uri": "https://localhost:8080/"
        },
        "id": "IizfpenW1Ceb",
        "outputId": "ebdf1feb-4bf5-45b0-8038-9c76882adb66"
      },
      "source": [
        "print(f\"Classification report for classifier {clf}:\\n\"\n",
        "      f\"{metrics.classification_report(y_test, predicted)}\\n\")"
      ],
      "execution_count": 9,
      "outputs": [
        {
          "output_type": "stream",
          "text": [
            "Classification report for classifier SVC(C=1.0, break_ties=False, cache_size=200, class_weight=None, coef0=0.0,\n",
            "    decision_function_shape='ovr', degree=3, gamma=0.1, kernel='rbf',\n",
            "    max_iter=-1, probability=False, random_state=None, shrinking=True,\n",
            "    tol=0.001, verbose=False):\n",
            "              precision    recall  f1-score   support\n",
            "\n",
            "           0       0.99      0.99      0.99        88\n",
            "           1       0.97      0.98      0.97        91\n",
            "           2       0.99      0.98      0.98        86\n",
            "           3       0.98      0.87      0.92        91\n",
            "           4       0.99      0.96      0.97        92\n",
            "           5       0.93      0.97      0.95        91\n",
            "           6       0.99      0.99      0.99        91\n",
            "           7       0.95      0.99      0.97        89\n",
            "           8       0.94      0.95      0.95        88\n",
            "           9       0.92      0.96      0.94        92\n",
            "\n",
            "    accuracy                           0.96       899\n",
            "   macro avg       0.96      0.96      0.96       899\n",
            "weighted avg       0.96      0.96      0.96       899\n",
            "\n",
            "\n"
          ],
          "name": "stdout"
        }
      ]
    },
    {
      "cell_type": "code",
      "metadata": {
        "colab": {
          "base_uri": "https://localhost:8080/",
          "height": 493
        },
        "id": "cvWT31PD1GLH",
        "outputId": "e9616d2f-6d43-4afa-80e8-374c31ad110a"
      },
      "source": [
        "disp = metrics.plot_confusion_matrix(clf, X_test, y_test)\n",
        "disp.figure_.suptitle(\"Confusion Matrix\")\n",
        "print(f\"Confusion matrix:\\n{disp.confusion_matrix}\")\n",
        "\n",
        "plt.show()"
      ],
      "execution_count": 10,
      "outputs": [
        {
          "output_type": "stream",
          "text": [
            "Confusion matrix:\n",
            "[[87  0  0  0  1  0  0  0  0  0]\n",
            " [ 0 89  0  0  0  0  0  0  0  2]\n",
            " [ 1  0 84  1  0  0  0  0  0  0]\n",
            " [ 0  0  1 79  0  3  0  4  4  0]\n",
            " [ 0  0  0  0 88  0  0  0  1  3]\n",
            " [ 0  0  0  0  0 88  1  0  0  2]\n",
            " [ 0  1  0  0  0  0 90  0  0  0]\n",
            " [ 0  0  0  0  0  1  0 88  0  0]\n",
            " [ 0  2  0  0  0  1  0  0 84  1]\n",
            " [ 0  0  0  1  0  2  0  1  0 88]]\n"
          ],
          "name": "stdout"
        },
        {
          "output_type": "display_data",
          "data": {
            "image/png": "[encoded data removed]",
            "text/plain": [
              "<Figure size 432x288 with 2 Axes>"
            ]
          },
          "metadata": {
            "tags": [],
            "needs_background": "light"
          }
        }
      ]
    },
    {
      "cell_type": "markdown",
      "metadata": {
        "id": "WH-xBEAh4gD0"
      },
      "source": [
        "## Nhận xét sơ về model sau khi train dựa trên bảng Confusion Matrix :\n",
        "* Số 3 là số dự đoán sai nhiều nhất \n",
        "* Các trường hợp số 4 dự đoán sai đều được dự đoán thành số 9 (chúng ta sẽ kiểm tra thử xem sao)\n",
        "* Các trường hợp dự đoán sai thường được dự đoán là số 9"
      ]
    },
    {
      "cell_type": "code",
      "metadata": {
        "id": "xRNpf3y_1L50"
      },
      "source": [
        "from IPython.display import display, Javascript\n",
        "from google.colab.output import eval_js\n",
        "from base64 import b64decode\n",
        "\n",
        "def take_photo(filename='photo.jpg', quality=0.8):\n",
        "  js = Javascript('''\n",
        "    async function takePhoto(quality) {\n",
        "      const div = document.createElement('div');\n",
        "      const capture = document.createElement('button');\n",
        "      capture.textContent = 'Capture';\n",
        "      div.appendChild(capture);\n",
        "\n",
        "      const video = document.createElement('video');\n",
        "      video.style.display = 'block';\n",
        "      const stream = await navigator.mediaDevices.getUserMedia({video: true});\n",
        "\n",
        "      document.body.appendChild(div);\n",
        "      div.appendChild(video);\n",
        "      video.srcObject = stream;\n",
        "      await video.play();\n",
        "\n",
        "      // Resize the output to fit the video element.\n",
        "      google.colab.output.setIframeHeight(document.documentElement.scrollHeight, true);\n",
        "\n",
        "      // Wait for Capture to be clicked.\n",
        "      await new Promise((resolve) => capture.onclick = resolve);\n",
        "\n",
        "      const canvas = document.createElement('canvas');\n",
        "      canvas.width = video.videoWidth;\n",
        "      canvas.height = video.videoHeight;\n",
        "      canvas.getContext('2d').drawImage(video, 0, 0);\n",
        "      stream.getVideoTracks()[0].stop();\n",
        "      div.remove();\n",
        "      return canvas.toDataURL('image/jpeg', quality);\n",
        "    }\n",
        "    ''')\n",
        "  display(js)\n",
        "  data = eval_js('takePhoto({})'.format(quality))\n",
        "  binary = b64decode(data.split(',')[1])\n",
        "  with open(filename, 'wb') as f:\n",
        "    f.write(binary)\n",
        "  return filename"
      ],
      "execution_count": 11,
      "outputs": []
    },
    {
      "cell_type": "markdown",
      "metadata": {
        "id": "_vl5RDZD1Noq"
      },
      "source": [
        "## Chụp ảnh từ webcam và kiểm tra trên dữ liệu viết tay cá nhân"
      ]
    },
    {
      "cell_type": "markdown",
      "metadata": {
        "id": "g5H208YC1Xrm"
      },
      "source": [
        "### Thêm 1 số thư viện cần thiết để xử lí ảnh chụp từ webcam và show thử hình ảnh được chụp từ webcam"
      ]
    },
    {
      "cell_type": "code",
      "metadata": {
        "id": "6fIU0v-61L51"
      },
      "source": [
        "from IPython.display import Image\n",
        "import cv2\n",
        "def Test():\n",
        "  try:\n",
        "    filename = take_photo()\n",
        "  except Exception as err:\n",
        "    # Errors will be thrown if the user does not have a webcam or if they do not\n",
        "    # grant the page permission to access it.\n",
        "    print(str(err))\n",
        "  # Xử lí dữ liệu đầu vào  \n",
        "  img=cv2.imread('photo.jpg',0)\n",
        "  #img = cv2.GaussianBlur(img, (5, 5), 0)\n",
        "  #_, img = cv2.threshold(img, 127, 255, cv2.THRESH_BINARY+ cv2.THRESH_OTSU)\n",
        "  plt.imshow(img,cmap='gray')\n",
        "  img=cv2.resize(img,(8,8),interpolation = cv2.INTER_AREA)\n",
        "  img=img/np.max(img)\n",
        "  img=img.reshape(1,64)\n",
        "  predicted=clf.predict(img)\n",
        "  plt.title('Predict'+str(predicted))\n",
        "  plt.show()"
      ],
      "execution_count": 28,
      "outputs": []
    },
    {
      "cell_type": "markdown",
      "metadata": {
        "id": "jdc81jeQ8mVi"
      },
      "source": [
        "### Chụp hình từ webcam và test 20 số viết tay ( mỗi số 0->9 test 2 lần )"
      ]
    },
    {
      "cell_type": "code",
      "metadata": {
        "id": "qBRc3EWt8l9F"
      },
      "source": [
        "for i in range(10):\n",
        "  Test()"
      ],
      "execution_count": null,
      "outputs": []
    },
    {
      "cell_type": "code",
      "metadata": {
        "id": "eS5aix7awAd1"
      },
      "source": [
        ""
      ],
      "execution_count": null,
      "outputs": []
    },
    {
      "cell_type": "markdown",
      "metadata": {
        "id": "rEFCCulElfh6"
      },
      "source": [
        "#4) Trả lời câu hỏi\n",
        "* **Câu 1: Kết quả chạy thực tế với webcam của laptop và giấy viết tay của các bạn có tốt không?**\n",
        "\n",
        "    Trả lời: Không thực sự tốt.\n",
        "* **Câu 2: Nhìn vào đâu để kết luận là tốt hay không?**\n",
        "\n",
        "    Trả lời: Nhìn vào kết quả của khi chụp từ webcam (đấy là kết quả với model của riêng nhóm em).\n",
        "\n",
        "* **Câu 3: Nếu không tốt thì lý do tại sao?**\n",
        "\n",
        "    Trả lời: Câu hỏi đặt ra là tại sao accuracy mà model test cao rất cao (96%) trong khi test thực tế lại cho kết quả ngược vậy, nhóm em nghĩ do những nguyên nhân sau:\n",
        "   * Do ảnh chụp từ webcam không giống với ảnh trong dataset của sklearn điển hình như nó khá mờ, độ sáng tương phản không đồng đều khiến cho quá trình xử lí ảnh, ảnh không được đưa về như mẫu của sklearn.\n",
        "   * Dataset của sklearn còn khá nhỏ(899 ảnh), vẫn còn quá bé nếu ta tính trung bình mỗi người trên thế giới có 1 kiểu chữ số viết tay và viết như nhau trong mọi trường hợp.\n",
        "   * Quá trình xử lí ảnh chụp từ webcam của nhóm em không thật sự tốt, nhóm em nhận ra điều này sau khi tham khảo những nhóm đã nộp bài và thấy kết quả của họ cao hơn nhóm em khá nhiều.\n",
        "   * Ảnh khi train model là 8*8 nhưng khi ảnh chụp từ webcam lại lớn hơn rất nhiều (480,640) sau khi resize làm mất mát dữ liệu rất nhiều.\n",
        "\n",
        "* **Câu 4: Nếu tốt thì tiếp theo có thể dùng model digits recognition này vào các bài toán phức tạp hơn như nhận dạng biển số nhà không?**\n",
        "\n",
        "    Trả lời: Nếu mô hình thật sự đủ tốt và chúng ta có thể nhận diện riêng được từng chữ số trong biển số nhà thì nhóm em nghĩ là vẫn có thể áp dụng vào bài toán nhận diện biển số nhà nhưng sẽ có những ưu, nhược điểm, điều kiện sau: \n",
        "   **Điều kiện**\n",
        "   * Phải nhận diện riêng được các số nằm trong biển số nhà.\n",
        "   * Lượng hình ảnh số nhà train phải đủ lớn( vì chưa có kinh nghiệm thực tế nên nhóm em vẫn chưa biết đủ lớn chính xác là bao nhiêu).\n",
        "    **Ưu điểm**\n",
        "   * Số được viết trên số nhà rõ ràng, không nguệch ngoạc như chữ viết tay, mặc dù chữ số cũng có nhiều dạng khác nhau.\n",
        "   * Trường hợp biển số nhà bị mờ vẫn xảy ra nhưng khá ít.\t\n",
        "    **Nhược điểm**\n",
        "   * Hiện nay người ta đã có những mô hình tốt hơn để nhận diện nhờ sử dụng deep learning.\n",
        "   * Hình ảnh chụp được từ thật tế không phải lúc nào cũng đẹp, có thể bị nghiêng, thiếu sáng hoặc quá sáng.\n",
        "   \n",
        "\n"
      ]
    }
  ]
}