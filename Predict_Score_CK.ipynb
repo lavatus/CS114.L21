{
  "nbformat": 4,
  "nbformat_minor": 0,
  "metadata": {
    "colab": {
      "name": "Predict_Score.ipynb",
      "provenance": [],
      "collapsed_sections": [],
      "toc_visible": true,
      "authorship_tag": "ABX9TyNElyFsbGdzXlZVguSPGYtL",
      "include_colab_link": true
    },
    "kernelspec": {
      "name": "python3",
      "display_name": "Python 3"
    },
    "language_info": {
      "name": "python"
    }
  },
  "cells": [
    {
      "cell_type": "markdown",
      "metadata": {
        "id": "view-in-github",
        "colab_type": "text"
      },
      "source": [
        "<a href=\"https://colab.research.google.com/github/lavatus/CS114.L21/blob/main/Predict_Score_CK.ipynb\" target=\"_parent\"><img src=\"https://colab.research.google.com/assets/colab-badge.svg\" alt=\"Open In Colab\"/></a>"
      ]
    },
    {
      "cell_type": "markdown",
      "metadata": {
        "id": "oNWFDmK_PQk_"
      },
      "source": [
        "# Deadline Machine Learning"
      ]
    },
    {
      "cell_type": "markdown",
      "metadata": {
        "id": "8IM0uxK7K_d8"
      },
      "source": [
        "## **I) Reference source**\n",
        "* [Github lớp thứ 2](https://github.com/PhanTung-06/CS114.L21/blob/main/ProcessDataWecode/Dead24_05.ipynb)"
      ]
    },
    {
      "cell_type": "markdown",
      "metadata": {
        "id": "swKMw6L3OoIf"
      },
      "source": [
        "## **II) Process data**\n"
      ]
    },
    {
      "cell_type": "code",
      "metadata": {
        "colab": {
          "base_uri": "https://localhost:8080/"
        },
        "id": "HC63YSrulLlX",
        "outputId": "6cdfa280-d04c-464f-ef9a-4fd0d73cc52b"
      },
      "source": [
        "from google.colab import drive\n",
        "drive.mount('/content/drive')"
      ],
      "execution_count": 34,
      "outputs": [
        {
          "output_type": "stream",
          "text": [
            "Drive already mounted at /content/drive; to attempt to forcibly remount, call drive.mount(\"/content/drive\", force_remount=True).\n"
          ],
          "name": "stdout"
        }
      ]
    },
    {
      "cell_type": "code",
      "metadata": {
        "id": "3in3RmQOlXT4"
      },
      "source": [
        "import numpy as np\n",
        "import pandas as pd\n",
        "import matplotlib.pyplot as plt\n",
        "import seaborn as sns\n",
        "wecode = pd.read_csv('/content/drive/MyDrive/Data/wecode.csv')\n",
        "score_training = pd.read_csv('/content/drive/MyDrive/Data/score_training.csv')"
      ],
      "execution_count": 35,
      "outputs": []
    },
    {
      "cell_type": "code",
      "metadata": {
        "colab": {
          "base_uri": "https://localhost:8080/"
        },
        "id": "nrjueTKoXzch",
        "outputId": "71f451d2-6d4e-47ba-af6c-2d1f06420f58"
      },
      "source": [
        "wecode.info()"
      ],
      "execution_count": 36,
      "outputs": [
        {
          "output_type": "stream",
          "text": [
            "<class 'pandas.core.frame.DataFrame'>\n",
            "RangeIndex: 264606 entries, 0 to 264605\n",
            "Data columns (total 12 columns):\n",
            " #   Column         Non-Null Count   Dtype \n",
            "---  ------         --------------   ----- \n",
            " 0   id             264606 non-null  int64 \n",
            " 1   assignment_id  264606 non-null  int64 \n",
            " 2   problem_id     264606 non-null  int64 \n",
            " 3   user_id        264606 non-null  int64 \n",
            " 4   is_final       264606 non-null  int64 \n",
            " 5   status         264605 non-null  object\n",
            " 6   pre_score      264606 non-null  int64 \n",
            " 7   coefficient    264606 non-null  object\n",
            " 8   file_name      264606 non-null  object\n",
            " 9   language_id    264606 non-null  int64 \n",
            " 10  created_at     264606 non-null  object\n",
            " 11  updated_at     264606 non-null  object\n",
            "dtypes: int64(7), object(5)\n",
            "memory usage: 24.2+ MB\n"
          ],
          "name": "stdout"
        }
      ]
    },
    {
      "cell_type": "code",
      "metadata": {
        "id": "SLEzkxxLqzBo",
        "colab": {
          "base_uri": "https://localhost:8080/",
          "height": 602
        },
        "outputId": "aa057a0d-8274-4ed6-e038-dca2b72ae7e4"
      },
      "source": [
        "wecode"
      ],
      "execution_count": 37,
      "outputs": [
        {
          "output_type": "execute_result",
          "data": {
            "text/html": [
              "<div>\n",
              "<style scoped>\n",
              "    .dataframe tbody tr th:only-of-type {\n",
              "        vertical-align: middle;\n",
              "    }\n",
              "\n",
              "    .dataframe tbody tr th {\n",
              "        vertical-align: top;\n",
              "    }\n",
              "\n",
              "    .dataframe thead th {\n",
              "        text-align: right;\n",
              "    }\n",
              "</style>\n",
              "<table border=\"1\" class=\"dataframe\">\n",
              "  <thead>\n",
              "    <tr style=\"text-align: right;\">\n",
              "      <th></th>\n",
              "      <th>id</th>\n",
              "      <th>assignment_id</th>\n",
              "      <th>problem_id</th>\n",
              "      <th>user_id</th>\n",
              "      <th>is_final</th>\n",
              "      <th>status</th>\n",
              "      <th>pre_score</th>\n",
              "      <th>coefficient</th>\n",
              "      <th>file_name</th>\n",
              "      <th>language_id</th>\n",
              "      <th>created_at</th>\n",
              "      <th>updated_at</th>\n",
              "    </tr>\n",
              "  </thead>\n",
              "  <tbody>\n",
              "    <tr>\n",
              "      <th>0</th>\n",
              "      <td>4</td>\n",
              "      <td>0</td>\n",
              "      <td>3</td>\n",
              "      <td>4</td>\n",
              "      <td>1</td>\n",
              "      <td>SCORE</td>\n",
              "      <td>10000</td>\n",
              "      <td>100</td>\n",
              "      <td>solution-0</td>\n",
              "      <td>2</td>\n",
              "      <td>2020-10-30 10:58:11</td>\n",
              "      <td>2020-10-30 10:58:19</td>\n",
              "    </tr>\n",
              "    <tr>\n",
              "      <th>1</th>\n",
              "      <td>5</td>\n",
              "      <td>0</td>\n",
              "      <td>4</td>\n",
              "      <td>4</td>\n",
              "      <td>1</td>\n",
              "      <td>SCORE</td>\n",
              "      <td>10000</td>\n",
              "      <td>100</td>\n",
              "      <td>solution-1</td>\n",
              "      <td>2</td>\n",
              "      <td>2020-10-30 11:07:09</td>\n",
              "      <td>2020-10-30 11:07:17</td>\n",
              "    </tr>\n",
              "    <tr>\n",
              "      <th>2</th>\n",
              "      <td>6</td>\n",
              "      <td>0</td>\n",
              "      <td>5</td>\n",
              "      <td>4</td>\n",
              "      <td>0</td>\n",
              "      <td>Compilation Error</td>\n",
              "      <td>0</td>\n",
              "      <td>100</td>\n",
              "      <td>solution-2</td>\n",
              "      <td>2</td>\n",
              "      <td>2020-10-30 11:08:01</td>\n",
              "      <td>2020-10-30 11:23:36</td>\n",
              "    </tr>\n",
              "    <tr>\n",
              "      <th>3</th>\n",
              "      <td>7</td>\n",
              "      <td>0</td>\n",
              "      <td>5</td>\n",
              "      <td>4</td>\n",
              "      <td>0</td>\n",
              "      <td>Compilation Error</td>\n",
              "      <td>0</td>\n",
              "      <td>100</td>\n",
              "      <td>solution-3</td>\n",
              "      <td>2</td>\n",
              "      <td>2020-10-30 11:11:41</td>\n",
              "      <td>2020-10-30 11:11:42</td>\n",
              "    </tr>\n",
              "    <tr>\n",
              "      <th>4</th>\n",
              "      <td>8</td>\n",
              "      <td>0</td>\n",
              "      <td>5</td>\n",
              "      <td>4</td>\n",
              "      <td>0</td>\n",
              "      <td>Compilation Error</td>\n",
              "      <td>0</td>\n",
              "      <td>100</td>\n",
              "      <td>solution-4</td>\n",
              "      <td>2</td>\n",
              "      <td>2020-10-30 11:15:06</td>\n",
              "      <td>2020-10-30 11:15:07</td>\n",
              "    </tr>\n",
              "    <tr>\n",
              "      <th>...</th>\n",
              "      <td>...</td>\n",
              "      <td>...</td>\n",
              "      <td>...</td>\n",
              "      <td>...</td>\n",
              "      <td>...</td>\n",
              "      <td>...</td>\n",
              "      <td>...</td>\n",
              "      <td>...</td>\n",
              "      <td>...</td>\n",
              "      <td>...</td>\n",
              "      <td>...</td>\n",
              "      <td>...</td>\n",
              "    </tr>\n",
              "    <tr>\n",
              "      <th>264601</th>\n",
              "      <td>266667</td>\n",
              "      <td>0</td>\n",
              "      <td>25</td>\n",
              "      <td>1796</td>\n",
              "      <td>0</td>\n",
              "      <td>SCORE</td>\n",
              "      <td>0</td>\n",
              "      <td>100</td>\n",
              "      <td>solution-3977</td>\n",
              "      <td>4</td>\n",
              "      <td>2021-04-28 09:34:20</td>\n",
              "      <td>2021-04-28 09:34:27</td>\n",
              "    </tr>\n",
              "    <tr>\n",
              "      <th>264602</th>\n",
              "      <td>266668</td>\n",
              "      <td>0</td>\n",
              "      <td>25</td>\n",
              "      <td>1796</td>\n",
              "      <td>0</td>\n",
              "      <td>Compilation Error</td>\n",
              "      <td>0</td>\n",
              "      <td>100</td>\n",
              "      <td>solution-3978</td>\n",
              "      <td>2</td>\n",
              "      <td>2021-04-28 09:35:07</td>\n",
              "      <td>2021-04-28 09:35:08</td>\n",
              "    </tr>\n",
              "    <tr>\n",
              "      <th>264603</th>\n",
              "      <td>266669</td>\n",
              "      <td>0</td>\n",
              "      <td>25</td>\n",
              "      <td>1796</td>\n",
              "      <td>1</td>\n",
              "      <td>SCORE</td>\n",
              "      <td>10000</td>\n",
              "      <td>100</td>\n",
              "      <td>solution-3979</td>\n",
              "      <td>4</td>\n",
              "      <td>2021-04-28 09:35:15</td>\n",
              "      <td>2021-04-28 09:35:21</td>\n",
              "    </tr>\n",
              "    <tr>\n",
              "      <th>264604</th>\n",
              "      <td>266670</td>\n",
              "      <td>0</td>\n",
              "      <td>150</td>\n",
              "      <td>255</td>\n",
              "      <td>1</td>\n",
              "      <td>SCORE</td>\n",
              "      <td>6250</td>\n",
              "      <td>100</td>\n",
              "      <td>solution-3980</td>\n",
              "      <td>2</td>\n",
              "      <td>2021-05-11 01:34:57</td>\n",
              "      <td>2021-05-11 01:35:28</td>\n",
              "    </tr>\n",
              "    <tr>\n",
              "      <th>264605</th>\n",
              "      <td>266671</td>\n",
              "      <td>21</td>\n",
              "      <td>24</td>\n",
              "      <td>1568</td>\n",
              "      <td>0</td>\n",
              "      <td>SCORE</td>\n",
              "      <td>10000</td>\n",
              "      <td>100</td>\n",
              "      <td>solution-609</td>\n",
              "      <td>4</td>\n",
              "      <td>2021-05-13 17:17:17</td>\n",
              "      <td>2021-05-13 17:17:40</td>\n",
              "    </tr>\n",
              "  </tbody>\n",
              "</table>\n",
              "<p>264606 rows × 12 columns</p>\n",
              "</div>"
            ],
            "text/plain": [
              "            id  assignment_id  ...           created_at           updated_at\n",
              "0            4              0  ...  2020-10-30 10:58:11  2020-10-30 10:58:19\n",
              "1            5              0  ...  2020-10-30 11:07:09  2020-10-30 11:07:17\n",
              "2            6              0  ...  2020-10-30 11:08:01  2020-10-30 11:23:36\n",
              "3            7              0  ...  2020-10-30 11:11:41  2020-10-30 11:11:42\n",
              "4            8              0  ...  2020-10-30 11:15:06  2020-10-30 11:15:07\n",
              "...        ...            ...  ...                  ...                  ...\n",
              "264601  266667              0  ...  2021-04-28 09:34:20  2021-04-28 09:34:27\n",
              "264602  266668              0  ...  2021-04-28 09:35:07  2021-04-28 09:35:08\n",
              "264603  266669              0  ...  2021-04-28 09:35:15  2021-04-28 09:35:21\n",
              "264604  266670              0  ...  2021-05-11 01:34:57  2021-05-11 01:35:28\n",
              "264605  266671             21  ...  2021-05-13 17:17:17  2021-05-13 17:17:40\n",
              "\n",
              "[264606 rows x 12 columns]"
            ]
          },
          "metadata": {
            "tags": []
          },
          "execution_count": 37
        }
      ]
    },
    {
      "cell_type": "code",
      "metadata": {
        "colab": {
          "base_uri": "https://localhost:8080/"
        },
        "id": "udrHwrk8I6ec",
        "outputId": "31a28469-2b63-421d-c32a-07a5d66cb3eb"
      },
      "source": [
        "score_training.info()"
      ],
      "execution_count": 38,
      "outputs": [
        {
          "output_type": "stream",
          "text": [
            "<class 'pandas.core.frame.DataFrame'>\n",
            "RangeIndex: 975 entries, 0 to 974\n",
            "Data columns (total 7 columns):\n",
            " #   Column  Non-Null Count  Dtype \n",
            "---  ------  --------------  ----- \n",
            " 0   id      975 non-null    int64 \n",
            " 1   QT      973 non-null    object\n",
            " 2   GK      974 non-null    object\n",
            " 3   TH      974 non-null    object\n",
            " 4   CK      974 non-null    object\n",
            " 5   TBM     974 non-null    object\n",
            " 6   TBTL    974 non-null    object\n",
            "dtypes: int64(1), object(6)\n",
            "memory usage: 53.4+ KB\n"
          ],
          "name": "stdout"
        }
      ]
    },
    {
      "cell_type": "code",
      "metadata": {
        "colab": {
          "base_uri": "https://localhost:8080/",
          "height": 356
        },
        "id": "aKyWD1s5X3Nt",
        "outputId": "c62ac778-8f24-4f37-c70e-6b4760846898"
      },
      "source": [
        "score_training.head(10)"
      ],
      "execution_count": 39,
      "outputs": [
        {
          "output_type": "execute_result",
          "data": {
            "text/html": [
              "<div>\n",
              "<style scoped>\n",
              "    .dataframe tbody tr th:only-of-type {\n",
              "        vertical-align: middle;\n",
              "    }\n",
              "\n",
              "    .dataframe tbody tr th {\n",
              "        vertical-align: top;\n",
              "    }\n",
              "\n",
              "    .dataframe thead th {\n",
              "        text-align: right;\n",
              "    }\n",
              "</style>\n",
              "<table border=\"1\" class=\"dataframe\">\n",
              "  <thead>\n",
              "    <tr style=\"text-align: right;\">\n",
              "      <th></th>\n",
              "      <th>id</th>\n",
              "      <th>QT</th>\n",
              "      <th>GK</th>\n",
              "      <th>TH</th>\n",
              "      <th>CK</th>\n",
              "      <th>TBM</th>\n",
              "      <th>TBTL</th>\n",
              "    </tr>\n",
              "  </thead>\n",
              "  <tbody>\n",
              "    <tr>\n",
              "      <th>0</th>\n",
              "      <td>22</td>\n",
              "      <td>10</td>\n",
              "      <td>9</td>\n",
              "      <td>8.5</td>\n",
              "      <td>8.5</td>\n",
              "      <td>8.8</td>\n",
              "      <td>8.52</td>\n",
              "    </tr>\n",
              "    <tr>\n",
              "      <th>1</th>\n",
              "      <td>24</td>\n",
              "      <td>10</td>\n",
              "      <td>8</td>\n",
              "      <td>10</td>\n",
              "      <td>9.5</td>\n",
              "      <td>9.4</td>\n",
              "      <td>8.41</td>\n",
              "    </tr>\n",
              "    <tr>\n",
              "      <th>2</th>\n",
              "      <td>27</td>\n",
              "      <td>10</td>\n",
              "      <td>10</td>\n",
              "      <td>10</td>\n",
              "      <td>10</td>\n",
              "      <td>10</td>\n",
              "      <td>8.67</td>\n",
              "    </tr>\n",
              "    <tr>\n",
              "      <th>3</th>\n",
              "      <td>28</td>\n",
              "      <td>10</td>\n",
              "      <td>9.5</td>\n",
              "      <td>7.5</td>\n",
              "      <td>9.5</td>\n",
              "      <td>9.2</td>\n",
              "      <td>7.39</td>\n",
              "    </tr>\n",
              "    <tr>\n",
              "      <th>4</th>\n",
              "      <td>29</td>\n",
              "      <td>10</td>\n",
              "      <td>9.5</td>\n",
              "      <td>5</td>\n",
              "      <td>8.5</td>\n",
              "      <td>8.2</td>\n",
              "      <td>08.05</td>\n",
              "    </tr>\n",
              "    <tr>\n",
              "      <th>5</th>\n",
              "      <td>30</td>\n",
              "      <td>10</td>\n",
              "      <td>10</td>\n",
              "      <td>9</td>\n",
              "      <td>9</td>\n",
              "      <td>9.3</td>\n",
              "      <td>8.63</td>\n",
              "    </tr>\n",
              "    <tr>\n",
              "      <th>6</th>\n",
              "      <td>34</td>\n",
              "      <td></td>\n",
              "      <td></td>\n",
              "      <td>9</td>\n",
              "      <td>6.5</td>\n",
              "      <td></td>\n",
              "      <td>6.24</td>\n",
              "    </tr>\n",
              "    <tr>\n",
              "      <th>7</th>\n",
              "      <td>35</td>\n",
              "      <td>7</td>\n",
              "      <td>9.5</td>\n",
              "      <td>6</td>\n",
              "      <td>4.5</td>\n",
              "      <td>6.2</td>\n",
              "      <td>5.75</td>\n",
              "    </tr>\n",
              "    <tr>\n",
              "      <th>8</th>\n",
              "      <td>36</td>\n",
              "      <td>4.5</td>\n",
              "      <td>8</td>\n",
              "      <td>9</td>\n",
              "      <td>7</td>\n",
              "      <td>7.6</td>\n",
              "      <td>8.51</td>\n",
              "    </tr>\n",
              "    <tr>\n",
              "      <th>9</th>\n",
              "      <td>37</td>\n",
              "      <td>5.5</td>\n",
              "      <td>5.5</td>\n",
              "      <td>7.5</td>\n",
              "      <td>7.5</td>\n",
              "      <td>6.9</td>\n",
              "      <td>8.27</td>\n",
              "    </tr>\n",
              "  </tbody>\n",
              "</table>\n",
              "</div>"
            ],
            "text/plain": [
              "   id   QT   GK   TH   CK  TBM   TBTL\n",
              "0  22   10    9  8.5  8.5  8.8   8.52\n",
              "1  24   10    8   10  9.5  9.4   8.41\n",
              "2  27   10   10   10   10   10   8.67\n",
              "3  28   10  9.5  7.5  9.5  9.2   7.39\n",
              "4  29   10  9.5    5  8.5  8.2  08.05\n",
              "5  30   10   10    9    9  9.3   8.63\n",
              "6  34              9  6.5        6.24\n",
              "7  35    7  9.5    6  4.5  6.2   5.75\n",
              "8  36  4.5    8    9    7  7.6   8.51\n",
              "9  37  5.5  5.5  7.5  7.5  6.9   8.27"
            ]
          },
          "metadata": {
            "tags": []
          },
          "execution_count": 39
        }
      ]
    },
    {
      "cell_type": "code",
      "metadata": {
        "id": "T0-lPhe8cXuH"
      },
      "source": [
        "new_wecode = pd.DataFrame(wecode['user_id'])\n",
        "new_wecode['Sum_Problems'] = pd.DataFrame(wecode['is_final'])\n",
        "new_wecode.insert(2,'Sum_Submits', 1)\n",
        "new_wecode['Sum_Correct_Submits'] = pd.DataFrame(map(int, (wecode['pre_score'] == 10000)))\n",
        "new_wecode['Sum_Correct_Problems'] = pd.DataFrame(map(int, (wecode['pre_score'] == 10000) & (wecode['is_final'] == 1)))\n",
        "new_wecode['Sum_Pre_Scores'] = wecode.loc[wecode['is_final'] == 1, ['pre_score']]\n",
        "new_wecode.columns = ['id', 'Sum_Problems', 'Sum_Submits','Sum_Correct_Submits', 'Sum_Correct_Problems','Sum_Pre_Scores']\n",
        "#new_wecode.columns = ['id', 'Sum_Problems', 'Sum_Submits','Sum_Correct_Submits', 'Sum_Correct_Problems']\n",
        "new_wecode = new_wecode.groupby(['id']).sum()"
      ],
      "execution_count": 40,
      "outputs": []
    },
    {
      "cell_type": "markdown",
      "metadata": {
        "id": "YvK89m5URgLz"
      },
      "source": [
        "### Idea 1"
      ]
    },
    {
      "cell_type": "code",
      "metadata": {
        "id": "tlT6br7HRiEW"
      },
      "source": [
        "# Tính tỉ lệ nộp bài đúng trên tổng số bài đã nộp\n",
        "new_wecode['idea1'] = new_wecode['Sum_Correct_Problems'] / new_wecode['Sum_Problems']"
      ],
      "execution_count": 41,
      "outputs": []
    },
    {
      "cell_type": "markdown",
      "metadata": {
        "id": "iL0z5nwSSGKU"
      },
      "source": [
        "### Idea 2"
      ]
    },
    {
      "cell_type": "code",
      "metadata": {
        "id": "dpM-awvXV0JQ"
      },
      "source": [
        "# Tính xem 1 problem cần bao nhiêu lần submit để hoàn thành\n",
        "new_wecode['idea2'] =  new_wecode['Sum_Submits'] / new_wecode['Sum_Correct_Problems'] "
      ],
      "execution_count": 42,
      "outputs": []
    },
    {
      "cell_type": "markdown",
      "metadata": {
        "id": "aOJadS2XfuXH"
      },
      "source": [
        "### Idea 3"
      ]
    },
    {
      "cell_type": "code",
      "metadata": {
        "id": "rkqD3tL4WC5H"
      },
      "source": [
        "# Tính tỉ lệ hoàn thành 1 problem\n",
        "new_wecode['idea3'] =   new_wecode['Sum_Correct_Problems'] / new_wecode['Sum_Submits'] "
      ],
      "execution_count": 43,
      "outputs": []
    },
    {
      "cell_type": "code",
      "metadata": {
        "colab": {
          "base_uri": "https://localhost:8080/",
          "height": 446
        },
        "id": "WqAtYeumckP0",
        "outputId": "d283adc9-6782-473b-f26a-38d90bdfbf83"
      },
      "source": [
        "new_wecode"
      ],
      "execution_count": 44,
      "outputs": [
        {
          "output_type": "execute_result",
          "data": {
            "text/html": [
              "<div>\n",
              "<style scoped>\n",
              "    .dataframe tbody tr th:only-of-type {\n",
              "        vertical-align: middle;\n",
              "    }\n",
              "\n",
              "    .dataframe tbody tr th {\n",
              "        vertical-align: top;\n",
              "    }\n",
              "\n",
              "    .dataframe thead th {\n",
              "        text-align: right;\n",
              "    }\n",
              "</style>\n",
              "<table border=\"1\" class=\"dataframe\">\n",
              "  <thead>\n",
              "    <tr style=\"text-align: right;\">\n",
              "      <th></th>\n",
              "      <th>Sum_Problems</th>\n",
              "      <th>Sum_Submits</th>\n",
              "      <th>Sum_Correct_Submits</th>\n",
              "      <th>Sum_Correct_Problems</th>\n",
              "      <th>Sum_Pre_Scores</th>\n",
              "      <th>idea1</th>\n",
              "      <th>idea2</th>\n",
              "      <th>idea3</th>\n",
              "    </tr>\n",
              "    <tr>\n",
              "      <th>id</th>\n",
              "      <th></th>\n",
              "      <th></th>\n",
              "      <th></th>\n",
              "      <th></th>\n",
              "      <th></th>\n",
              "      <th></th>\n",
              "      <th></th>\n",
              "      <th></th>\n",
              "    </tr>\n",
              "  </thead>\n",
              "  <tbody>\n",
              "    <tr>\n",
              "      <th>1</th>\n",
              "      <td>2</td>\n",
              "      <td>2</td>\n",
              "      <td>1</td>\n",
              "      <td>1</td>\n",
              "      <td>10000.0</td>\n",
              "      <td>0.500000</td>\n",
              "      <td>2.000000</td>\n",
              "      <td>0.500000</td>\n",
              "    </tr>\n",
              "    <tr>\n",
              "      <th>4</th>\n",
              "      <td>38</td>\n",
              "      <td>54</td>\n",
              "      <td>44</td>\n",
              "      <td>37</td>\n",
              "      <td>370000.0</td>\n",
              "      <td>0.973684</td>\n",
              "      <td>1.459459</td>\n",
              "      <td>0.685185</td>\n",
              "    </tr>\n",
              "    <tr>\n",
              "      <th>5</th>\n",
              "      <td>5</td>\n",
              "      <td>6</td>\n",
              "      <td>3</td>\n",
              "      <td>3</td>\n",
              "      <td>30000.0</td>\n",
              "      <td>0.600000</td>\n",
              "      <td>2.000000</td>\n",
              "      <td>0.500000</td>\n",
              "    </tr>\n",
              "    <tr>\n",
              "      <th>6</th>\n",
              "      <td>88</td>\n",
              "      <td>130</td>\n",
              "      <td>89</td>\n",
              "      <td>85</td>\n",
              "      <td>850000.0</td>\n",
              "      <td>0.965909</td>\n",
              "      <td>1.529412</td>\n",
              "      <td>0.653846</td>\n",
              "    </tr>\n",
              "    <tr>\n",
              "      <th>7</th>\n",
              "      <td>2</td>\n",
              "      <td>5</td>\n",
              "      <td>0</td>\n",
              "      <td>0</td>\n",
              "      <td>9209.0</td>\n",
              "      <td>0.000000</td>\n",
              "      <td>inf</td>\n",
              "      <td>0.000000</td>\n",
              "    </tr>\n",
              "    <tr>\n",
              "      <th>...</th>\n",
              "      <td>...</td>\n",
              "      <td>...</td>\n",
              "      <td>...</td>\n",
              "      <td>...</td>\n",
              "      <td>...</td>\n",
              "      <td>...</td>\n",
              "      <td>...</td>\n",
              "      <td>...</td>\n",
              "    </tr>\n",
              "    <tr>\n",
              "      <th>1860</th>\n",
              "      <td>48</td>\n",
              "      <td>76</td>\n",
              "      <td>29</td>\n",
              "      <td>28</td>\n",
              "      <td>329665.0</td>\n",
              "      <td>0.583333</td>\n",
              "      <td>2.714286</td>\n",
              "      <td>0.368421</td>\n",
              "    </tr>\n",
              "    <tr>\n",
              "      <th>1862</th>\n",
              "      <td>6</td>\n",
              "      <td>12</td>\n",
              "      <td>4</td>\n",
              "      <td>4</td>\n",
              "      <td>40000.0</td>\n",
              "      <td>0.666667</td>\n",
              "      <td>3.000000</td>\n",
              "      <td>0.333333</td>\n",
              "    </tr>\n",
              "    <tr>\n",
              "      <th>1864</th>\n",
              "      <td>63</td>\n",
              "      <td>187</td>\n",
              "      <td>30</td>\n",
              "      <td>28</td>\n",
              "      <td>439741.0</td>\n",
              "      <td>0.444444</td>\n",
              "      <td>6.678571</td>\n",
              "      <td>0.149733</td>\n",
              "    </tr>\n",
              "    <tr>\n",
              "      <th>1865</th>\n",
              "      <td>17</td>\n",
              "      <td>99</td>\n",
              "      <td>10</td>\n",
              "      <td>10</td>\n",
              "      <td>116428.0</td>\n",
              "      <td>0.588235</td>\n",
              "      <td>9.900000</td>\n",
              "      <td>0.101010</td>\n",
              "    </tr>\n",
              "    <tr>\n",
              "      <th>1868</th>\n",
              "      <td>27</td>\n",
              "      <td>47</td>\n",
              "      <td>38</td>\n",
              "      <td>27</td>\n",
              "      <td>270000.0</td>\n",
              "      <td>1.000000</td>\n",
              "      <td>1.740741</td>\n",
              "      <td>0.574468</td>\n",
              "    </tr>\n",
              "  </tbody>\n",
              "</table>\n",
              "<p>1159 rows × 8 columns</p>\n",
              "</div>"
            ],
            "text/plain": [
              "      Sum_Problems  Sum_Submits  ...     idea2     idea3\n",
              "id                               ...                    \n",
              "1                2            2  ...  2.000000  0.500000\n",
              "4               38           54  ...  1.459459  0.685185\n",
              "5                5            6  ...  2.000000  0.500000\n",
              "6               88          130  ...  1.529412  0.653846\n",
              "7                2            5  ...       inf  0.000000\n",
              "...            ...          ...  ...       ...       ...\n",
              "1860            48           76  ...  2.714286  0.368421\n",
              "1862             6           12  ...  3.000000  0.333333\n",
              "1864            63          187  ...  6.678571  0.149733\n",
              "1865            17           99  ...  9.900000  0.101010\n",
              "1868            27           47  ...  1.740741  0.574468\n",
              "\n",
              "[1159 rows x 8 columns]"
            ]
          },
          "metadata": {
            "tags": []
          },
          "execution_count": 44
        }
      ]
    },
    {
      "cell_type": "markdown",
      "metadata": {
        "id": "gJRUF2d2Nmue"
      },
      "source": [
        "## **III) Merge data**"
      ]
    },
    {
      "cell_type": "code",
      "metadata": {
        "id": "V_Fnte3XM7cm"
      },
      "source": [
        "CK = score_training[['id','QT','GK','TH','CK']]\n",
        "#CK = score_training[['id','CK']]"
      ],
      "execution_count": 45,
      "outputs": []
    },
    {
      "cell_type": "code",
      "metadata": {
        "id": "yrZWXFDNLZOk"
      },
      "source": [
        "data_final = pd.merge(new_wecode, CK, on='id',how='outer')\n",
        "data_final = data_final.apply(pd.to_numeric,  errors='coerce')\n",
        "data_final.replace([np.inf, -np.inf], np.nan, inplace=True)\n",
        "data_final = data_final.dropna()"
      ],
      "execution_count": 46,
      "outputs": []
    },
    {
      "cell_type": "code",
      "metadata": {
        "colab": {
          "base_uri": "https://localhost:8080/",
          "height": 435
        },
        "id": "Gfcbb2X0NLqN",
        "outputId": "9990013c-5ced-4aa3-cba4-6299418b2224"
      },
      "source": [
        "data_final"
      ],
      "execution_count": 47,
      "outputs": [
        {
          "output_type": "execute_result",
          "data": {
            "text/html": [
              "<div>\n",
              "<style scoped>\n",
              "    .dataframe tbody tr th:only-of-type {\n",
              "        vertical-align: middle;\n",
              "    }\n",
              "\n",
              "    .dataframe tbody tr th {\n",
              "        vertical-align: top;\n",
              "    }\n",
              "\n",
              "    .dataframe thead th {\n",
              "        text-align: right;\n",
              "    }\n",
              "</style>\n",
              "<table border=\"1\" class=\"dataframe\">\n",
              "  <thead>\n",
              "    <tr style=\"text-align: right;\">\n",
              "      <th></th>\n",
              "      <th>id</th>\n",
              "      <th>Sum_Problems</th>\n",
              "      <th>Sum_Submits</th>\n",
              "      <th>Sum_Correct_Submits</th>\n",
              "      <th>Sum_Correct_Problems</th>\n",
              "      <th>Sum_Pre_Scores</th>\n",
              "      <th>idea1</th>\n",
              "      <th>idea2</th>\n",
              "      <th>idea3</th>\n",
              "      <th>QT</th>\n",
              "      <th>GK</th>\n",
              "      <th>TH</th>\n",
              "      <th>CK</th>\n",
              "    </tr>\n",
              "  </thead>\n",
              "  <tbody>\n",
              "    <tr>\n",
              "      <th>9</th>\n",
              "      <td>24</td>\n",
              "      <td>77.0</td>\n",
              "      <td>164.0</td>\n",
              "      <td>80.0</td>\n",
              "      <td>72.0</td>\n",
              "      <td>750299.0</td>\n",
              "      <td>0.935065</td>\n",
              "      <td>2.277778</td>\n",
              "      <td>0.439024</td>\n",
              "      <td>10.0</td>\n",
              "      <td>8.0</td>\n",
              "      <td>10.0</td>\n",
              "      <td>9.5</td>\n",
              "    </tr>\n",
              "    <tr>\n",
              "      <th>10</th>\n",
              "      <td>27</td>\n",
              "      <td>5.0</td>\n",
              "      <td>13.0</td>\n",
              "      <td>4.0</td>\n",
              "      <td>3.0</td>\n",
              "      <td>39000.0</td>\n",
              "      <td>0.600000</td>\n",
              "      <td>4.333333</td>\n",
              "      <td>0.230769</td>\n",
              "      <td>10.0</td>\n",
              "      <td>10.0</td>\n",
              "      <td>10.0</td>\n",
              "      <td>10.0</td>\n",
              "    </tr>\n",
              "    <tr>\n",
              "      <th>11</th>\n",
              "      <td>29</td>\n",
              "      <td>80.0</td>\n",
              "      <td>199.0</td>\n",
              "      <td>75.0</td>\n",
              "      <td>72.0</td>\n",
              "      <td>762760.0</td>\n",
              "      <td>0.900000</td>\n",
              "      <td>2.763889</td>\n",
              "      <td>0.361809</td>\n",
              "      <td>10.0</td>\n",
              "      <td>9.5</td>\n",
              "      <td>5.0</td>\n",
              "      <td>8.5</td>\n",
              "    </tr>\n",
              "    <tr>\n",
              "      <th>14</th>\n",
              "      <td>35</td>\n",
              "      <td>151.0</td>\n",
              "      <td>297.0</td>\n",
              "      <td>152.0</td>\n",
              "      <td>145.0</td>\n",
              "      <td>1477000.0</td>\n",
              "      <td>0.960265</td>\n",
              "      <td>2.048276</td>\n",
              "      <td>0.488215</td>\n",
              "      <td>7.0</td>\n",
              "      <td>9.5</td>\n",
              "      <td>6.0</td>\n",
              "      <td>4.5</td>\n",
              "    </tr>\n",
              "    <tr>\n",
              "      <th>15</th>\n",
              "      <td>37</td>\n",
              "      <td>102.0</td>\n",
              "      <td>312.0</td>\n",
              "      <td>100.0</td>\n",
              "      <td>93.0</td>\n",
              "      <td>979712.0</td>\n",
              "      <td>0.911765</td>\n",
              "      <td>3.354839</td>\n",
              "      <td>0.298077</td>\n",
              "      <td>5.5</td>\n",
              "      <td>5.5</td>\n",
              "      <td>7.5</td>\n",
              "      <td>7.5</td>\n",
              "    </tr>\n",
              "    <tr>\n",
              "      <th>...</th>\n",
              "      <td>...</td>\n",
              "      <td>...</td>\n",
              "      <td>...</td>\n",
              "      <td>...</td>\n",
              "      <td>...</td>\n",
              "      <td>...</td>\n",
              "      <td>...</td>\n",
              "      <td>...</td>\n",
              "      <td>...</td>\n",
              "      <td>...</td>\n",
              "      <td>...</td>\n",
              "      <td>...</td>\n",
              "      <td>...</td>\n",
              "    </tr>\n",
              "    <tr>\n",
              "      <th>1071</th>\n",
              "      <td>1771</td>\n",
              "      <td>74.0</td>\n",
              "      <td>200.0</td>\n",
              "      <td>51.0</td>\n",
              "      <td>49.0</td>\n",
              "      <td>587271.0</td>\n",
              "      <td>0.662162</td>\n",
              "      <td>4.081633</td>\n",
              "      <td>0.245000</td>\n",
              "      <td>0.0</td>\n",
              "      <td>5.0</td>\n",
              "      <td>4.0</td>\n",
              "      <td>5.5</td>\n",
              "    </tr>\n",
              "    <tr>\n",
              "      <th>1151</th>\n",
              "      <td>1856</td>\n",
              "      <td>31.0</td>\n",
              "      <td>64.0</td>\n",
              "      <td>23.0</td>\n",
              "      <td>23.0</td>\n",
              "      <td>270790.0</td>\n",
              "      <td>0.741935</td>\n",
              "      <td>2.782609</td>\n",
              "      <td>0.359375</td>\n",
              "      <td>5.0</td>\n",
              "      <td>5.5</td>\n",
              "      <td>7.0</td>\n",
              "      <td>7.5</td>\n",
              "    </tr>\n",
              "    <tr>\n",
              "      <th>1152</th>\n",
              "      <td>1857</td>\n",
              "      <td>40.0</td>\n",
              "      <td>55.0</td>\n",
              "      <td>37.0</td>\n",
              "      <td>37.0</td>\n",
              "      <td>386000.0</td>\n",
              "      <td>0.925000</td>\n",
              "      <td>1.486486</td>\n",
              "      <td>0.672727</td>\n",
              "      <td>5.0</td>\n",
              "      <td>4.5</td>\n",
              "      <td>10.0</td>\n",
              "      <td>4.0</td>\n",
              "    </tr>\n",
              "    <tr>\n",
              "      <th>1153</th>\n",
              "      <td>1859</td>\n",
              "      <td>30.0</td>\n",
              "      <td>31.0</td>\n",
              "      <td>3.0</td>\n",
              "      <td>3.0</td>\n",
              "      <td>39000.0</td>\n",
              "      <td>0.100000</td>\n",
              "      <td>10.333333</td>\n",
              "      <td>0.096774</td>\n",
              "      <td>8.0</td>\n",
              "      <td>5.0</td>\n",
              "      <td>10.0</td>\n",
              "      <td>1.5</td>\n",
              "    </tr>\n",
              "    <tr>\n",
              "      <th>1155</th>\n",
              "      <td>1862</td>\n",
              "      <td>6.0</td>\n",
              "      <td>12.0</td>\n",
              "      <td>4.0</td>\n",
              "      <td>4.0</td>\n",
              "      <td>40000.0</td>\n",
              "      <td>0.666667</td>\n",
              "      <td>3.000000</td>\n",
              "      <td>0.333333</td>\n",
              "      <td>5.0</td>\n",
              "      <td>6.5</td>\n",
              "      <td>1.0</td>\n",
              "      <td>7.5</td>\n",
              "    </tr>\n",
              "  </tbody>\n",
              "</table>\n",
              "<p>674 rows × 13 columns</p>\n",
              "</div>"
            ],
            "text/plain": [
              "        id  Sum_Problems  Sum_Submits  ...    GK    TH    CK\n",
              "9       24          77.0        164.0  ...   8.0  10.0   9.5\n",
              "10      27           5.0         13.0  ...  10.0  10.0  10.0\n",
              "11      29          80.0        199.0  ...   9.5   5.0   8.5\n",
              "14      35         151.0        297.0  ...   9.5   6.0   4.5\n",
              "15      37         102.0        312.0  ...   5.5   7.5   7.5\n",
              "...    ...           ...          ...  ...   ...   ...   ...\n",
              "1071  1771          74.0        200.0  ...   5.0   4.0   5.5\n",
              "1151  1856          31.0         64.0  ...   5.5   7.0   7.5\n",
              "1152  1857          40.0         55.0  ...   4.5  10.0   4.0\n",
              "1153  1859          30.0         31.0  ...   5.0  10.0   1.5\n",
              "1155  1862           6.0         12.0  ...   6.5   1.0   7.5\n",
              "\n",
              "[674 rows x 13 columns]"
            ]
          },
          "metadata": {
            "tags": []
          },
          "execution_count": 47
        }
      ]
    },
    {
      "cell_type": "markdown",
      "metadata": {
        "id": "L81XdPuNOflw"
      },
      "source": [
        "## **IV) Visualization**"
      ]
    },
    {
      "cell_type": "code",
      "metadata": {
        "id": "Vl6D9k7jUH43"
      },
      "source": [
        "data_plot = data_final.copy()\n",
        "data_plot = data_plot.sort_values(by='CK', ascending=False)"
      ],
      "execution_count": 48,
      "outputs": []
    },
    {
      "cell_type": "markdown",
      "metadata": {
        "id": "0XQVdyYvVFl3"
      },
      "source": [
        "### Idea 1"
      ]
    },
    {
      "cell_type": "code",
      "metadata": {
        "colab": {
          "base_uri": "https://localhost:8080/",
          "height": 296
        },
        "id": "CnJ5a4usUlMW",
        "outputId": "d3816e58-aee0-479e-d57e-e09fad9d0169"
      },
      "source": [
        "sns.scatterplot(x=\"idea1\", y=\"CK\", data=data_plot)"
      ],
      "execution_count": 49,
      "outputs": [
        {
          "output_type": "execute_result",
          "data": {
            "text/plain": [
              "<matplotlib.axes._subplots.AxesSubplot at 0x7fe42031a1d0>"
            ]
          },
          "metadata": {
            "tags": []
          },
          "execution_count": 49
        },
        {
          "output_type": "display_data",
          "data": {
            "image/png": "[encoded data removed]",
            "text/plain": [
              "<Figure size 432x288 with 1 Axes>"
            ]
          },
          "metadata": {
            "tags": [],
            "needs_background": "light"
          }
        }
      ]
    },
    {
      "cell_type": "markdown",
      "metadata": {
        "id": "7e1ReF-UVNsH"
      },
      "source": [
        "### Sum Correct Problem and CK"
      ]
    },
    {
      "cell_type": "code",
      "metadata": {
        "colab": {
          "base_uri": "https://localhost:8080/",
          "height": 297
        },
        "id": "lK_kpAE1U9Ui",
        "outputId": "da978b29-cdc6-4083-f2ac-0fbaae58191c"
      },
      "source": [
        "sns.scatterplot(x=\"Sum_Correct_Problems\", y=\"CK\", data=data_plot)"
      ],
      "execution_count": 50,
      "outputs": [
        {
          "output_type": "execute_result",
          "data": {
            "text/plain": [
              "<matplotlib.axes._subplots.AxesSubplot at 0x7fe4202ccb50>"
            ]
          },
          "metadata": {
            "tags": []
          },
          "execution_count": 50
        },
        {
          "output_type": "display_data",
          "data": {
            "image/png": "[encoded data removed]",
            "text/plain": [
              "<Figure size 432x288 with 1 Axes>"
            ]
          },
          "metadata": {
            "tags": [],
            "needs_background": "light"
          }
        }
      ]
    },
    {
      "cell_type": "markdown",
      "metadata": {
        "id": "Mfn36SNuWCUB"
      },
      "source": [
        "### Idea 2"
      ]
    },
    {
      "cell_type": "code",
      "metadata": {
        "colab": {
          "base_uri": "https://localhost:8080/",
          "height": 296
        },
        "id": "PzqeITFBVC7X",
        "outputId": "2debc854-5d83-4277-d6c1-276dfd730678"
      },
      "source": [
        "sns.scatterplot(x=\"idea2\", y=\"CK\", data=data_plot)"
      ],
      "execution_count": 51,
      "outputs": [
        {
          "output_type": "execute_result",
          "data": {
            "text/plain": [
              "<matplotlib.axes._subplots.AxesSubplot at 0x7fe42022bd50>"
            ]
          },
          "metadata": {
            "tags": []
          },
          "execution_count": 51
        },
        {
          "output_type": "display_data",
          "data": {
            "image/png": "[encoded data removed]",
            "text/plain": [
              "<Figure size 432x288 with 1 Axes>"
            ]
          },
          "metadata": {
            "tags": [],
            "needs_background": "light"
          }
        }
      ]
    },
    {
      "cell_type": "markdown",
      "metadata": {
        "id": "_qrPKJ7hYIRw"
      },
      "source": [
        "### Sum Problem and CK"
      ]
    },
    {
      "cell_type": "code",
      "metadata": {
        "colab": {
          "base_uri": "https://localhost:8080/",
          "height": 297
        },
        "id": "g0ypZ8zgYMao",
        "outputId": "36fabb07-393c-4b70-9912-83f50db4e89b"
      },
      "source": [
        "sns.scatterplot(x=\"Sum_Problems\", y=\"CK\",data=data_plot)"
      ],
      "execution_count": 52,
      "outputs": [
        {
          "output_type": "execute_result",
          "data": {
            "text/plain": [
              "<matplotlib.axes._subplots.AxesSubplot at 0x7fe4201da690>"
            ]
          },
          "metadata": {
            "tags": []
          },
          "execution_count": 52
        },
        {
          "output_type": "display_data",
          "data": {
            "image/png": "[encoded data removed]",
            "text/plain": [
              "<Figure size 432x288 with 1 Axes>"
            ]
          },
          "metadata": {
            "tags": [],
            "needs_background": "light"
          }
        }
      ]
    },
    {
      "cell_type": "markdown",
      "metadata": {
        "id": "swcZttC3XrNs"
      },
      "source": [
        "### Sum Pre Scores and CK\n"
      ]
    },
    {
      "cell_type": "code",
      "metadata": {
        "colab": {
          "base_uri": "https://localhost:8080/",
          "height": 297
        },
        "id": "Pxl4MB9OXwLT",
        "outputId": "4881488e-acf2-4567-edb9-9cbbdbe74469"
      },
      "source": [
        "sns.scatterplot(x=\"Sum_Pre_Scores\", y=\"CK\",data=data_plot)"
      ],
      "execution_count": 53,
      "outputs": [
        {
          "output_type": "execute_result",
          "data": {
            "text/plain": [
              "<matplotlib.axes._subplots.AxesSubplot at 0x7fe42014fa50>"
            ]
          },
          "metadata": {
            "tags": []
          },
          "execution_count": 53
        },
        {
          "output_type": "display_data",
          "data": {
            "image/png": "[encoded data removed]",
            "text/plain": [
              "<Figure size 432x288 with 1 Axes>"
            ]
          },
          "metadata": {
            "tags": [],
            "needs_background": "light"
          }
        }
      ]
    },
    {
      "cell_type": "markdown",
      "metadata": {
        "id": "e1IygZ42gA5v"
      },
      "source": [
        "### Idea 3"
      ]
    },
    {
      "cell_type": "code",
      "metadata": {
        "colab": {
          "base_uri": "https://localhost:8080/",
          "height": 296
        },
        "id": "yokoh22fgCKf",
        "outputId": "8d7e2acc-e9d8-453d-aff0-7d5c57cc454b"
      },
      "source": [
        "sns.scatterplot(x=\"idea3\", y=\"CK\", data=data_plot)"
      ],
      "execution_count": 54,
      "outputs": [
        {
          "output_type": "execute_result",
          "data": {
            "text/plain": [
              "<matplotlib.axes._subplots.AxesSubplot at 0x7fe420102290>"
            ]
          },
          "metadata": {
            "tags": []
          },
          "execution_count": 54
        },
        {
          "output_type": "display_data",
          "data": {
            "image/png": "[encoded data removed]",
            "text/plain": [
              "<Figure size 432x288 with 1 Axes>"
            ]
          },
          "metadata": {
            "tags": [],
            "needs_background": "light"
          }
        }
      ]
    },
    {
      "cell_type": "markdown",
      "metadata": {
        "id": "amSnHVQzgKnn"
      },
      "source": [
        "### QT and CK"
      ]
    },
    {
      "cell_type": "code",
      "metadata": {
        "id": "v55chKepcISm"
      },
      "source": [
        "#sns.scatterplot(x=\"QT\", y=\"CK\", data = data_plot)"
      ],
      "execution_count": 55,
      "outputs": []
    },
    {
      "cell_type": "markdown",
      "metadata": {
        "id": "wQsVwoEw2FM7"
      },
      "source": [
        "## V) Train\n"
      ]
    },
    {
      "cell_type": "code",
      "metadata": {
        "id": "GAqYm3cr2HIb"
      },
      "source": [
        "from sklearn.model_selection import train_test_split\n",
        "from sklearn.linear_model import LinearRegression\n",
        "from sklearn.metrics import mean_squared_error\n",
        "from sklearn.preprocessing import StandardScaler\n",
        "from sklearn import metrics\n",
        "import math"
      ],
      "execution_count": 56,
      "outputs": []
    },
    {
      "cell_type": "markdown",
      "metadata": {
        "id": "qxhOg3Ec2vWS"
      },
      "source": [
        "### Split data to  data test and  train "
      ]
    },
    {
      "cell_type": "markdown",
      "metadata": {
        "id": "U2xau0pIdnY_"
      },
      "source": [
        "### Trích lọc data có ảnh hưởng đến điểm CK \n",
        "Từ data visualization ta nhận thấy có trường sau đây không có ảnh hưởng(rất ít) đến điểm CK :\n",
        "* Idea1\n",
        "* Id"
      ]
    },
    {
      "cell_type": "code",
      "metadata": {
        "id": "NwP28umd2nW2"
      },
      "source": [
        "data_train = data_final.copy()\n",
        "CK = data_train['CK']\n",
        "data_train.drop(columns=['CK','idea1','id'],inplace = True)\n",
        "#data_train = data_train[['QT','GK','TH']]"
      ],
      "execution_count": 57,
      "outputs": []
    },
    {
      "cell_type": "code",
      "metadata": {
        "id": "ZgcPi9t73oee"
      },
      "source": [
        "x_train,x_test,y_train,y_test = train_test_split(data_train,CK,test_size=0.2, random_state=0)"
      ],
      "execution_count": 58,
      "outputs": []
    },
    {
      "cell_type": "markdown",
      "metadata": {
        "id": "SV_T-liqg1HM"
      },
      "source": [
        "### x_train"
      ]
    },
    {
      "cell_type": "code",
      "metadata": {
        "colab": {
          "base_uri": "https://localhost:8080/",
          "height": 415
        },
        "id": "VDHDqcaMSYtx",
        "outputId": "c0e50811-213f-4a02-986e-47b5b7d32101"
      },
      "source": [
        "x_train"
      ],
      "execution_count": 59,
      "outputs": [
        {
          "output_type": "execute_result",
          "data": {
            "text/html": [
              "<div>\n",
              "<style scoped>\n",
              "    .dataframe tbody tr th:only-of-type {\n",
              "        vertical-align: middle;\n",
              "    }\n",
              "\n",
              "    .dataframe tbody tr th {\n",
              "        vertical-align: top;\n",
              "    }\n",
              "\n",
              "    .dataframe thead th {\n",
              "        text-align: right;\n",
              "    }\n",
              "</style>\n",
              "<table border=\"1\" class=\"dataframe\">\n",
              "  <thead>\n",
              "    <tr style=\"text-align: right;\">\n",
              "      <th></th>\n",
              "      <th>Sum_Problems</th>\n",
              "      <th>Sum_Submits</th>\n",
              "      <th>Sum_Correct_Submits</th>\n",
              "      <th>Sum_Correct_Problems</th>\n",
              "      <th>Sum_Pre_Scores</th>\n",
              "      <th>idea2</th>\n",
              "      <th>idea3</th>\n",
              "      <th>QT</th>\n",
              "      <th>GK</th>\n",
              "      <th>TH</th>\n",
              "    </tr>\n",
              "  </thead>\n",
              "  <tbody>\n",
              "    <tr>\n",
              "      <th>1016</th>\n",
              "      <td>199.0</td>\n",
              "      <td>421.0</td>\n",
              "      <td>187.0</td>\n",
              "      <td>184.0</td>\n",
              "      <td>1896416.0</td>\n",
              "      <td>2.288043</td>\n",
              "      <td>0.437055</td>\n",
              "      <td>8.0</td>\n",
              "      <td>7.0</td>\n",
              "      <td>8.5</td>\n",
              "    </tr>\n",
              "    <tr>\n",
              "      <th>158</th>\n",
              "      <td>85.0</td>\n",
              "      <td>213.0</td>\n",
              "      <td>90.0</td>\n",
              "      <td>84.0</td>\n",
              "      <td>848888.0</td>\n",
              "      <td>2.535714</td>\n",
              "      <td>0.394366</td>\n",
              "      <td>8.5</td>\n",
              "      <td>2.0</td>\n",
              "      <td>9.0</td>\n",
              "    </tr>\n",
              "    <tr>\n",
              "      <th>413</th>\n",
              "      <td>87.0</td>\n",
              "      <td>164.0</td>\n",
              "      <td>70.0</td>\n",
              "      <td>70.0</td>\n",
              "      <td>819360.0</td>\n",
              "      <td>2.342857</td>\n",
              "      <td>0.426829</td>\n",
              "      <td>8.5</td>\n",
              "      <td>4.5</td>\n",
              "      <td>6.0</td>\n",
              "    </tr>\n",
              "    <tr>\n",
              "      <th>234</th>\n",
              "      <td>90.0</td>\n",
              "      <td>502.0</td>\n",
              "      <td>120.0</td>\n",
              "      <td>87.0</td>\n",
              "      <td>881333.0</td>\n",
              "      <td>5.770115</td>\n",
              "      <td>0.173307</td>\n",
              "      <td>10.0</td>\n",
              "      <td>9.0</td>\n",
              "      <td>10.0</td>\n",
              "    </tr>\n",
              "    <tr>\n",
              "      <th>540</th>\n",
              "      <td>73.0</td>\n",
              "      <td>229.0</td>\n",
              "      <td>73.0</td>\n",
              "      <td>71.0</td>\n",
              "      <td>710000.0</td>\n",
              "      <td>3.225352</td>\n",
              "      <td>0.310044</td>\n",
              "      <td>8.0</td>\n",
              "      <td>8.5</td>\n",
              "      <td>7.0</td>\n",
              "    </tr>\n",
              "    <tr>\n",
              "      <th>...</th>\n",
              "      <td>...</td>\n",
              "      <td>...</td>\n",
              "      <td>...</td>\n",
              "      <td>...</td>\n",
              "      <td>...</td>\n",
              "      <td>...</td>\n",
              "      <td>...</td>\n",
              "      <td>...</td>\n",
              "      <td>...</td>\n",
              "      <td>...</td>\n",
              "    </tr>\n",
              "    <tr>\n",
              "      <th>25</th>\n",
              "      <td>100.0</td>\n",
              "      <td>349.0</td>\n",
              "      <td>97.0</td>\n",
              "      <td>95.0</td>\n",
              "      <td>973888.0</td>\n",
              "      <td>3.673684</td>\n",
              "      <td>0.272206</td>\n",
              "      <td>5.5</td>\n",
              "      <td>5.0</td>\n",
              "      <td>7.5</td>\n",
              "    </tr>\n",
              "    <tr>\n",
              "      <th>584</th>\n",
              "      <td>69.0</td>\n",
              "      <td>281.0</td>\n",
              "      <td>60.0</td>\n",
              "      <td>60.0</td>\n",
              "      <td>627554.0</td>\n",
              "      <td>4.683333</td>\n",
              "      <td>0.213523</td>\n",
              "      <td>7.0</td>\n",
              "      <td>6.0</td>\n",
              "      <td>7.5</td>\n",
              "    </tr>\n",
              "    <tr>\n",
              "      <th>297</th>\n",
              "      <td>152.0</td>\n",
              "      <td>375.0</td>\n",
              "      <td>156.0</td>\n",
              "      <td>149.0</td>\n",
              "      <td>1507776.0</td>\n",
              "      <td>2.516779</td>\n",
              "      <td>0.397333</td>\n",
              "      <td>10.0</td>\n",
              "      <td>7.5</td>\n",
              "      <td>3.5</td>\n",
              "    </tr>\n",
              "    <tr>\n",
              "      <th>998</th>\n",
              "      <td>90.0</td>\n",
              "      <td>214.0</td>\n",
              "      <td>91.0</td>\n",
              "      <td>90.0</td>\n",
              "      <td>900000.0</td>\n",
              "      <td>2.377778</td>\n",
              "      <td>0.420561</td>\n",
              "      <td>9.0</td>\n",
              "      <td>10.0</td>\n",
              "      <td>10.0</td>\n",
              "    </tr>\n",
              "    <tr>\n",
              "      <th>893</th>\n",
              "      <td>16.0</td>\n",
              "      <td>55.0</td>\n",
              "      <td>9.0</td>\n",
              "      <td>9.0</td>\n",
              "      <td>105636.0</td>\n",
              "      <td>6.111111</td>\n",
              "      <td>0.163636</td>\n",
              "      <td>7.0</td>\n",
              "      <td>7.5</td>\n",
              "      <td>4.0</td>\n",
              "    </tr>\n",
              "  </tbody>\n",
              "</table>\n",
              "<p>539 rows × 10 columns</p>\n",
              "</div>"
            ],
            "text/plain": [
              "      Sum_Problems  Sum_Submits  Sum_Correct_Submits  ...    QT    GK    TH\n",
              "1016         199.0        421.0                187.0  ...   8.0   7.0   8.5\n",
              "158           85.0        213.0                 90.0  ...   8.5   2.0   9.0\n",
              "413           87.0        164.0                 70.0  ...   8.5   4.5   6.0\n",
              "234           90.0        502.0                120.0  ...  10.0   9.0  10.0\n",
              "540           73.0        229.0                 73.0  ...   8.0   8.5   7.0\n",
              "...            ...          ...                  ...  ...   ...   ...   ...\n",
              "25           100.0        349.0                 97.0  ...   5.5   5.0   7.5\n",
              "584           69.0        281.0                 60.0  ...   7.0   6.0   7.5\n",
              "297          152.0        375.0                156.0  ...  10.0   7.5   3.5\n",
              "998           90.0        214.0                 91.0  ...   9.0  10.0  10.0\n",
              "893           16.0         55.0                  9.0  ...   7.0   7.5   4.0\n",
              "\n",
              "[539 rows x 10 columns]"
            ]
          },
          "metadata": {
            "tags": []
          },
          "execution_count": 59
        }
      ]
    },
    {
      "cell_type": "code",
      "metadata": {
        "colab": {
          "base_uri": "https://localhost:8080/"
        },
        "id": "qqtL6ZzqA-rZ",
        "outputId": "c7b37180-f2a8-40ad-8f4d-ef792903914f"
      },
      "source": [
        "y_train"
      ],
      "execution_count": 60,
      "outputs": [
        {
          "output_type": "execute_result",
          "data": {
            "text/plain": [
              "1016    9.5\n",
              "158     5.0\n",
              "413     7.5\n",
              "234     9.0\n",
              "540     6.0\n",
              "       ... \n",
              "25      4.5\n",
              "584     7.0\n",
              "297     6.0\n",
              "998     8.0\n",
              "893     9.0\n",
              "Name: CK, Length: 539, dtype: float64"
            ]
          },
          "metadata": {
            "tags": []
          },
          "execution_count": 60
        }
      ]
    },
    {
      "cell_type": "markdown",
      "metadata": {
        "id": "2wABVL9FU3NH"
      },
      "source": [
        "### Sacle data "
      ]
    },
    {
      "cell_type": "code",
      "metadata": {
        "id": "FLqkwwbfSNC1"
      },
      "source": [
        "#scaler = StandardScaler()\n",
        "#x_train = scaler.fit_transform(x_train)\n",
        "#x_test = scaler.transform(x_test)"
      ],
      "execution_count": 61,
      "outputs": []
    },
    {
      "cell_type": "markdown",
      "metadata": {
        "id": "usgT-CfFU6IN"
      },
      "source": [
        "### Train model and caculate MSE"
      ]
    },
    {
      "cell_type": "code",
      "metadata": {
        "colab": {
          "base_uri": "https://localhost:8080/"
        },
        "id": "L5P76ljfDgrT",
        "outputId": "08350627-5499-4bf4-ce26-7582948dbdfa"
      },
      "source": [
        "model = LinearRegression()\n",
        "model.fit(x_train,y_train)"
      ],
      "execution_count": 62,
      "outputs": [
        {
          "output_type": "execute_result",
          "data": {
            "text/plain": [
              "LinearRegression(copy_X=True, fit_intercept=True, n_jobs=None, normalize=False)"
            ]
          },
          "metadata": {
            "tags": []
          },
          "execution_count": 62
        }
      ]
    },
    {
      "cell_type": "code",
      "metadata": {
        "id": "UuuBOlYyRU0I"
      },
      "source": [
        "y_pre = model.predict(x_test)\n",
        "y_pre = np.round((y_pre*2))/2"
      ],
      "execution_count": 63,
      "outputs": []
    },
    {
      "cell_type": "code",
      "metadata": {
        "colab": {
          "base_uri": "https://localhost:8080/"
        },
        "id": "hQbTV8FPhS5e",
        "outputId": "7367b141-77af-431d-d16a-f701d0acdb46"
      },
      "source": [
        "y_pre"
      ],
      "execution_count": 64,
      "outputs": [
        {
          "output_type": "execute_result",
          "data": {
            "text/plain": [
              "array([3.5, 8.5, 7.5, 7.5, 7.5, 6.5, 6.5, 7.5, 6.5, 6.5, 6. , 7.5, 6. ,\n",
              "       5. , 5.5, 7.5, 7. , 6. , 7.5, 6.5, 8. , 6.5, 6.5, 7.5, 6.5, 8.5,\n",
              "       5.5, 5.5, 6.5, 7.5, 6. , 8.5, 5.5, 4.5, 6. , 3.5, 7.5, 7. , 6.5,\n",
              "       8. , 8. , 6. , 4.5, 7. , 2.5, 6.5, 6. , 6.5, 5.5, 7. , 7.5, 7.5,\n",
              "       4.5, 5.5, 7.5, 5.5, 6. , 6.5, 3.5, 5.5, 1.5, 8. , 5.5, 8. , 8. ,\n",
              "       7. , 7.5, 7. , 5. , 6.5, 5. , 5.5, 8. , 6. , 1.5, 7.5, 7. , 7. ,\n",
              "       6. , 5.5, 2. , 5.5, 7. , 8. , 7.5, 5.5, 8. , 7. , 7.5, 9. , 6.5,\n",
              "       5.5, 6.5, 6.5, 5.5, 7. , 6.5, 3. , 7.5, 7.5, 4. , 7. , 7.5, 8.5,\n",
              "       7. , 5.5, 4.5, 6.5, 6. , 7.5, 6.5, 8.5, 8. , 5. , 5.5, 7. , 1. ,\n",
              "       7.5, 8.5, 7. , 5. , 6.5, 7.5, 4.5, 7.5, 6. , 7.5, 4.5, 7. , 6. ,\n",
              "       6.5, 4.5, 8. , 4.5, 5. ])"
            ]
          },
          "metadata": {
            "tags": []
          },
          "execution_count": 64
        }
      ]
    },
    {
      "cell_type": "code",
      "metadata": {
        "colab": {
          "base_uri": "https://localhost:8080/"
        },
        "id": "FXON8OLVhWkD",
        "outputId": "34bd68da-305b-4334-bb70-ffb0abcc6662"
      },
      "source": [
        "y_test"
      ],
      "execution_count": 65,
      "outputs": [
        {
          "output_type": "execute_result",
          "data": {
            "text/plain": [
              "520      6.5\n",
              "57       9.0\n",
              "1027     8.5\n",
              "865      9.5\n",
              "174     10.0\n",
              "        ... \n",
              "714      7.5\n",
              "120      2.5\n",
              "232      7.5\n",
              "991      6.0\n",
              "1152     4.0\n",
              "Name: CK, Length: 135, dtype: float64"
            ]
          },
          "metadata": {
            "tags": []
          },
          "execution_count": 65
        }
      ]
    },
    {
      "cell_type": "code",
      "metadata": {
        "colab": {
          "base_uri": "https://localhost:8080/"
        },
        "id": "zIA9XEsmR9i6",
        "outputId": "615fea97-b789-4f3e-f4e9-937d22ab73eb"
      },
      "source": [
        "mse = metrics.mean_squared_error(y_pre, y_test)\n",
        "print('MSE : ',mse)"
      ],
      "execution_count": 66,
      "outputs": [
        {
          "output_type": "stream",
          "text": [
            "MSE :  2.3962962962962964\n"
          ],
          "name": "stdout"
        }
      ]
    },
    {
      "cell_type": "markdown",
      "metadata": {
        "id": "q5aPWL2jVBQp"
      },
      "source": [
        "## Overall review\n",
        "* Data còn khá nhỏ dẫn đến việc dự đoán xảy ra sai số vẫn còn cách biệt đáng kể ( cách biệt 2.39 điểm vẫn là số điểm chưa an toàn )\n",
        "* Việc tìm kiếm các yếu tố ảnh hưởng đến điểm CK còn thiếu sót"
      ]
    }
  ]
}