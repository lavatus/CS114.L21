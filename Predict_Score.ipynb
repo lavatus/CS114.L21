{
  "nbformat": 4,
  "nbformat_minor": 0,
  "metadata": {
    "colab": {
      "name": "Predict_Score.ipynb",
      "provenance": [],
      "collapsed_sections": [],
      "toc_visible": true,
      "authorship_tag": "ABX9TyM9wO8T4HkirRrXmRKjk2jy",
      "include_colab_link": true
    },
    "kernelspec": {
      "name": "python3",
      "display_name": "Python 3"
    },
    "language_info": {
      "name": "python"
    }
  },
  "cells": [
    {
      "cell_type": "markdown",
      "metadata": {
        "id": "view-in-github",
        "colab_type": "text"
      },
      "source": [
        "<a href=\"https://colab.research.google.com/github/lavatus/CS114.L21/blob/main/Predict_Score.ipynb\" target=\"_parent\"><img src=\"https://colab.research.google.com/assets/colab-badge.svg\" alt=\"Open In Colab\"/></a>"
      ]
    },
    {
      "cell_type": "markdown",
      "metadata": {
        "id": "oNWFDmK_PQk_"
      },
      "source": [
        "# Bài tập Machine Learning"
      ]
    },
    {
      "cell_type": "markdown",
      "metadata": {
        "id": "8IM0uxK7K_d8"
      },
      "source": [
        "## **I) Nguồn tham khảo**\n",
        "* [Github lớp thứ 2](https://github.com/PhanTung-06/CS114.L21/blob/main/ProcessDataWecode/Dead24_05.ipynb)"
      ]
    },
    {
      "cell_type": "markdown",
      "metadata": {
        "id": "swKMw6L3OoIf"
      },
      "source": [
        "## **II) Process data**\n"
      ]
    },
    {
      "cell_type": "code",
      "metadata": {
        "colab": {
          "base_uri": "https://localhost:8080/"
        },
        "id": "HC63YSrulLlX",
        "outputId": "8fd375b7-0007-4697-f5d8-72656e0bc112"
      },
      "source": [
        "from google.colab import drive\n",
        "drive.mount('/content/drive')"
      ],
      "execution_count": 98,
      "outputs": [
        {
          "output_type": "stream",
          "text": [
            "Drive already mounted at /content/drive; to attempt to forcibly remount, call drive.mount(\"/content/drive\", force_remount=True).\n"
          ],
          "name": "stdout"
        }
      ]
    },
    {
      "cell_type": "code",
      "metadata": {
        "id": "e4sugqQ8PYRs"
      },
      "source": [
        ""
      ],
      "execution_count": 98,
      "outputs": []
    },
    {
      "cell_type": "code",
      "metadata": {
        "id": "3in3RmQOlXT4"
      },
      "source": [
        "import numpy as np\n",
        "import pandas as pd\n",
        "import matplotlib.pyplot as plt\n",
        "import seaborn as sns\n",
        "wecode = pd.read_csv('/content/drive/MyDrive/Data/wecode.csv')\n",
        "score_training = pd.read_csv('/content/drive/MyDrive/Data/score_training.csv')"
      ],
      "execution_count": 99,
      "outputs": []
    },
    {
      "cell_type": "code",
      "metadata": {
        "colab": {
          "base_uri": "https://localhost:8080/"
        },
        "id": "nrjueTKoXzch",
        "outputId": "ab041e33-1497-4910-c19f-5934d4614fa2"
      },
      "source": [
        "wecode.info()"
      ],
      "execution_count": 100,
      "outputs": [
        {
          "output_type": "stream",
          "text": [
            "<class 'pandas.core.frame.DataFrame'>\n",
            "RangeIndex: 264606 entries, 0 to 264605\n",
            "Data columns (total 12 columns):\n",
            " #   Column         Non-Null Count   Dtype \n",
            "---  ------         --------------   ----- \n",
            " 0   id             264606 non-null  int64 \n",
            " 1   assignment_id  264606 non-null  int64 \n",
            " 2   problem_id     264606 non-null  int64 \n",
            " 3   user_id        264606 non-null  int64 \n",
            " 4   is_final       264606 non-null  int64 \n",
            " 5   status         264605 non-null  object\n",
            " 6   pre_score      264606 non-null  int64 \n",
            " 7   coefficient    264606 non-null  object\n",
            " 8   file_name      264606 non-null  object\n",
            " 9   language_id    264606 non-null  int64 \n",
            " 10  created_at     264606 non-null  object\n",
            " 11  updated_at     264606 non-null  object\n",
            "dtypes: int64(7), object(5)\n",
            "memory usage: 24.2+ MB\n"
          ],
          "name": "stdout"
        }
      ]
    },
    {
      "cell_type": "code",
      "metadata": {
        "id": "SLEzkxxLqzBo",
        "colab": {
          "base_uri": "https://localhost:8080/",
          "height": 592
        },
        "outputId": "5ef0be64-c31f-4136-97e0-1c79e6f0e1b2"
      },
      "source": [
        "wecode"
      ],
      "execution_count": 101,
      "outputs": [
        {
          "output_type": "execute_result",
          "data": {
            "text/html": [
              "<div>\n",
              "<style scoped>\n",
              "    .dataframe tbody tr th:only-of-type {\n",
              "        vertical-align: middle;\n",
              "    }\n",
              "\n",
              "    .dataframe tbody tr th {\n",
              "        vertical-align: top;\n",
              "    }\n",
              "\n",
              "    .dataframe thead th {\n",
              "        text-align: right;\n",
              "    }\n",
              "</style>\n",
              "<table border=\"1\" class=\"dataframe\">\n",
              "  <thead>\n",
              "    <tr style=\"text-align: right;\">\n",
              "      <th></th>\n",
              "      <th>id</th>\n",
              "      <th>assignment_id</th>\n",
              "      <th>problem_id</th>\n",
              "      <th>user_id</th>\n",
              "      <th>is_final</th>\n",
              "      <th>status</th>\n",
              "      <th>pre_score</th>\n",
              "      <th>coefficient</th>\n",
              "      <th>file_name</th>\n",
              "      <th>language_id</th>\n",
              "      <th>created_at</th>\n",
              "      <th>updated_at</th>\n",
              "    </tr>\n",
              "  </thead>\n",
              "  <tbody>\n",
              "    <tr>\n",
              "      <th>0</th>\n",
              "      <td>4</td>\n",
              "      <td>0</td>\n",
              "      <td>3</td>\n",
              "      <td>4</td>\n",
              "      <td>1</td>\n",
              "      <td>SCORE</td>\n",
              "      <td>10000</td>\n",
              "      <td>100</td>\n",
              "      <td>solution-0</td>\n",
              "      <td>2</td>\n",
              "      <td>2020-10-30 10:58:11</td>\n",
              "      <td>2020-10-30 10:58:19</td>\n",
              "    </tr>\n",
              "    <tr>\n",
              "      <th>1</th>\n",
              "      <td>5</td>\n",
              "      <td>0</td>\n",
              "      <td>4</td>\n",
              "      <td>4</td>\n",
              "      <td>1</td>\n",
              "      <td>SCORE</td>\n",
              "      <td>10000</td>\n",
              "      <td>100</td>\n",
              "      <td>solution-1</td>\n",
              "      <td>2</td>\n",
              "      <td>2020-10-30 11:07:09</td>\n",
              "      <td>2020-10-30 11:07:17</td>\n",
              "    </tr>\n",
              "    <tr>\n",
              "      <th>2</th>\n",
              "      <td>6</td>\n",
              "      <td>0</td>\n",
              "      <td>5</td>\n",
              "      <td>4</td>\n",
              "      <td>0</td>\n",
              "      <td>Compilation Error</td>\n",
              "      <td>0</td>\n",
              "      <td>100</td>\n",
              "      <td>solution-2</td>\n",
              "      <td>2</td>\n",
              "      <td>2020-10-30 11:08:01</td>\n",
              "      <td>2020-10-30 11:23:36</td>\n",
              "    </tr>\n",
              "    <tr>\n",
              "      <th>3</th>\n",
              "      <td>7</td>\n",
              "      <td>0</td>\n",
              "      <td>5</td>\n",
              "      <td>4</td>\n",
              "      <td>0</td>\n",
              "      <td>Compilation Error</td>\n",
              "      <td>0</td>\n",
              "      <td>100</td>\n",
              "      <td>solution-3</td>\n",
              "      <td>2</td>\n",
              "      <td>2020-10-30 11:11:41</td>\n",
              "      <td>2020-10-30 11:11:42</td>\n",
              "    </tr>\n",
              "    <tr>\n",
              "      <th>4</th>\n",
              "      <td>8</td>\n",
              "      <td>0</td>\n",
              "      <td>5</td>\n",
              "      <td>4</td>\n",
              "      <td>0</td>\n",
              "      <td>Compilation Error</td>\n",
              "      <td>0</td>\n",
              "      <td>100</td>\n",
              "      <td>solution-4</td>\n",
              "      <td>2</td>\n",
              "      <td>2020-10-30 11:15:06</td>\n",
              "      <td>2020-10-30 11:15:07</td>\n",
              "    </tr>\n",
              "    <tr>\n",
              "      <th>...</th>\n",
              "      <td>...</td>\n",
              "      <td>...</td>\n",
              "      <td>...</td>\n",
              "      <td>...</td>\n",
              "      <td>...</td>\n",
              "      <td>...</td>\n",
              "      <td>...</td>\n",
              "      <td>...</td>\n",
              "      <td>...</td>\n",
              "      <td>...</td>\n",
              "      <td>...</td>\n",
              "      <td>...</td>\n",
              "    </tr>\n",
              "    <tr>\n",
              "      <th>264601</th>\n",
              "      <td>266667</td>\n",
              "      <td>0</td>\n",
              "      <td>25</td>\n",
              "      <td>1796</td>\n",
              "      <td>0</td>\n",
              "      <td>SCORE</td>\n",
              "      <td>0</td>\n",
              "      <td>100</td>\n",
              "      <td>solution-3977</td>\n",
              "      <td>4</td>\n",
              "      <td>2021-04-28 09:34:20</td>\n",
              "      <td>2021-04-28 09:34:27</td>\n",
              "    </tr>\n",
              "    <tr>\n",
              "      <th>264602</th>\n",
              "      <td>266668</td>\n",
              "      <td>0</td>\n",
              "      <td>25</td>\n",
              "      <td>1796</td>\n",
              "      <td>0</td>\n",
              "      <td>Compilation Error</td>\n",
              "      <td>0</td>\n",
              "      <td>100</td>\n",
              "      <td>solution-3978</td>\n",
              "      <td>2</td>\n",
              "      <td>2021-04-28 09:35:07</td>\n",
              "      <td>2021-04-28 09:35:08</td>\n",
              "    </tr>\n",
              "    <tr>\n",
              "      <th>264603</th>\n",
              "      <td>266669</td>\n",
              "      <td>0</td>\n",
              "      <td>25</td>\n",
              "      <td>1796</td>\n",
              "      <td>1</td>\n",
              "      <td>SCORE</td>\n",
              "      <td>10000</td>\n",
              "      <td>100</td>\n",
              "      <td>solution-3979</td>\n",
              "      <td>4</td>\n",
              "      <td>2021-04-28 09:35:15</td>\n",
              "      <td>2021-04-28 09:35:21</td>\n",
              "    </tr>\n",
              "    <tr>\n",
              "      <th>264604</th>\n",
              "      <td>266670</td>\n",
              "      <td>0</td>\n",
              "      <td>150</td>\n",
              "      <td>255</td>\n",
              "      <td>1</td>\n",
              "      <td>SCORE</td>\n",
              "      <td>6250</td>\n",
              "      <td>100</td>\n",
              "      <td>solution-3980</td>\n",
              "      <td>2</td>\n",
              "      <td>2021-05-11 01:34:57</td>\n",
              "      <td>2021-05-11 01:35:28</td>\n",
              "    </tr>\n",
              "    <tr>\n",
              "      <th>264605</th>\n",
              "      <td>266671</td>\n",
              "      <td>21</td>\n",
              "      <td>24</td>\n",
              "      <td>1568</td>\n",
              "      <td>0</td>\n",
              "      <td>SCORE</td>\n",
              "      <td>10000</td>\n",
              "      <td>100</td>\n",
              "      <td>solution-609</td>\n",
              "      <td>4</td>\n",
              "      <td>2021-05-13 17:17:17</td>\n",
              "      <td>2021-05-13 17:17:40</td>\n",
              "    </tr>\n",
              "  </tbody>\n",
              "</table>\n",
              "<p>264606 rows × 12 columns</p>\n",
              "</div>"
            ],
            "text/plain": [
              "            id  assignment_id  ...           created_at           updated_at\n",
              "0            4              0  ...  2020-10-30 10:58:11  2020-10-30 10:58:19\n",
              "1            5              0  ...  2020-10-30 11:07:09  2020-10-30 11:07:17\n",
              "2            6              0  ...  2020-10-30 11:08:01  2020-10-30 11:23:36\n",
              "3            7              0  ...  2020-10-30 11:11:41  2020-10-30 11:11:42\n",
              "4            8              0  ...  2020-10-30 11:15:06  2020-10-30 11:15:07\n",
              "...        ...            ...  ...                  ...                  ...\n",
              "264601  266667              0  ...  2021-04-28 09:34:20  2021-04-28 09:34:27\n",
              "264602  266668              0  ...  2021-04-28 09:35:07  2021-04-28 09:35:08\n",
              "264603  266669              0  ...  2021-04-28 09:35:15  2021-04-28 09:35:21\n",
              "264604  266670              0  ...  2021-05-11 01:34:57  2021-05-11 01:35:28\n",
              "264605  266671             21  ...  2021-05-13 17:17:17  2021-05-13 17:17:40\n",
              "\n",
              "[264606 rows x 12 columns]"
            ]
          },
          "metadata": {
            "tags": []
          },
          "execution_count": 101
        }
      ]
    },
    {
      "cell_type": "code",
      "metadata": {
        "colab": {
          "base_uri": "https://localhost:8080/"
        },
        "id": "udrHwrk8I6ec",
        "outputId": "851c36cb-e875-4bb5-b999-1ae4c7e4b1d9"
      },
      "source": [
        "score_training.info()"
      ],
      "execution_count": 102,
      "outputs": [
        {
          "output_type": "stream",
          "text": [
            "<class 'pandas.core.frame.DataFrame'>\n",
            "RangeIndex: 975 entries, 0 to 974\n",
            "Data columns (total 7 columns):\n",
            " #   Column  Non-Null Count  Dtype \n",
            "---  ------  --------------  ----- \n",
            " 0   id      975 non-null    int64 \n",
            " 1   QT      973 non-null    object\n",
            " 2   GK      974 non-null    object\n",
            " 3   TH      974 non-null    object\n",
            " 4   CK      974 non-null    object\n",
            " 5   TBM     974 non-null    object\n",
            " 6   TBTL    974 non-null    object\n",
            "dtypes: int64(1), object(6)\n",
            "memory usage: 53.4+ KB\n"
          ],
          "name": "stdout"
        }
      ]
    },
    {
      "cell_type": "code",
      "metadata": {
        "colab": {
          "base_uri": "https://localhost:8080/",
          "height": 345
        },
        "id": "aKyWD1s5X3Nt",
        "outputId": "d9689d9f-9b6c-4046-e213-b10d9447d9aa"
      },
      "source": [
        "score_training.head(10)"
      ],
      "execution_count": 103,
      "outputs": [
        {
          "output_type": "execute_result",
          "data": {
            "text/html": [
              "<div>\n",
              "<style scoped>\n",
              "    .dataframe tbody tr th:only-of-type {\n",
              "        vertical-align: middle;\n",
              "    }\n",
              "\n",
              "    .dataframe tbody tr th {\n",
              "        vertical-align: top;\n",
              "    }\n",
              "\n",
              "    .dataframe thead th {\n",
              "        text-align: right;\n",
              "    }\n",
              "</style>\n",
              "<table border=\"1\" class=\"dataframe\">\n",
              "  <thead>\n",
              "    <tr style=\"text-align: right;\">\n",
              "      <th></th>\n",
              "      <th>id</th>\n",
              "      <th>QT</th>\n",
              "      <th>GK</th>\n",
              "      <th>TH</th>\n",
              "      <th>CK</th>\n",
              "      <th>TBM</th>\n",
              "      <th>TBTL</th>\n",
              "    </tr>\n",
              "  </thead>\n",
              "  <tbody>\n",
              "    <tr>\n",
              "      <th>0</th>\n",
              "      <td>22</td>\n",
              "      <td>10</td>\n",
              "      <td>9</td>\n",
              "      <td>8.5</td>\n",
              "      <td>8.5</td>\n",
              "      <td>8.8</td>\n",
              "      <td>8.52</td>\n",
              "    </tr>\n",
              "    <tr>\n",
              "      <th>1</th>\n",
              "      <td>24</td>\n",
              "      <td>10</td>\n",
              "      <td>8</td>\n",
              "      <td>10</td>\n",
              "      <td>9.5</td>\n",
              "      <td>9.4</td>\n",
              "      <td>8.41</td>\n",
              "    </tr>\n",
              "    <tr>\n",
              "      <th>2</th>\n",
              "      <td>27</td>\n",
              "      <td>10</td>\n",
              "      <td>10</td>\n",
              "      <td>10</td>\n",
              "      <td>10</td>\n",
              "      <td>10</td>\n",
              "      <td>8.67</td>\n",
              "    </tr>\n",
              "    <tr>\n",
              "      <th>3</th>\n",
              "      <td>28</td>\n",
              "      <td>10</td>\n",
              "      <td>9.5</td>\n",
              "      <td>7.5</td>\n",
              "      <td>9.5</td>\n",
              "      <td>9.2</td>\n",
              "      <td>7.39</td>\n",
              "    </tr>\n",
              "    <tr>\n",
              "      <th>4</th>\n",
              "      <td>29</td>\n",
              "      <td>10</td>\n",
              "      <td>9.5</td>\n",
              "      <td>5</td>\n",
              "      <td>8.5</td>\n",
              "      <td>8.2</td>\n",
              "      <td>08.05</td>\n",
              "    </tr>\n",
              "    <tr>\n",
              "      <th>5</th>\n",
              "      <td>30</td>\n",
              "      <td>10</td>\n",
              "      <td>10</td>\n",
              "      <td>9</td>\n",
              "      <td>9</td>\n",
              "      <td>9.3</td>\n",
              "      <td>8.63</td>\n",
              "    </tr>\n",
              "    <tr>\n",
              "      <th>6</th>\n",
              "      <td>34</td>\n",
              "      <td></td>\n",
              "      <td></td>\n",
              "      <td>9</td>\n",
              "      <td>6.5</td>\n",
              "      <td></td>\n",
              "      <td>6.24</td>\n",
              "    </tr>\n",
              "    <tr>\n",
              "      <th>7</th>\n",
              "      <td>35</td>\n",
              "      <td>7</td>\n",
              "      <td>9.5</td>\n",
              "      <td>6</td>\n",
              "      <td>4.5</td>\n",
              "      <td>6.2</td>\n",
              "      <td>5.75</td>\n",
              "    </tr>\n",
              "    <tr>\n",
              "      <th>8</th>\n",
              "      <td>36</td>\n",
              "      <td>4.5</td>\n",
              "      <td>8</td>\n",
              "      <td>9</td>\n",
              "      <td>7</td>\n",
              "      <td>7.6</td>\n",
              "      <td>8.51</td>\n",
              "    </tr>\n",
              "    <tr>\n",
              "      <th>9</th>\n",
              "      <td>37</td>\n",
              "      <td>5.5</td>\n",
              "      <td>5.5</td>\n",
              "      <td>7.5</td>\n",
              "      <td>7.5</td>\n",
              "      <td>6.9</td>\n",
              "      <td>8.27</td>\n",
              "    </tr>\n",
              "  </tbody>\n",
              "</table>\n",
              "</div>"
            ],
            "text/plain": [
              "   id   QT   GK   TH   CK  TBM   TBTL\n",
              "0  22   10    9  8.5  8.5  8.8   8.52\n",
              "1  24   10    8   10  9.5  9.4   8.41\n",
              "2  27   10   10   10   10   10   8.67\n",
              "3  28   10  9.5  7.5  9.5  9.2   7.39\n",
              "4  29   10  9.5    5  8.5  8.2  08.05\n",
              "5  30   10   10    9    9  9.3   8.63\n",
              "6  34              9  6.5        6.24\n",
              "7  35    7  9.5    6  4.5  6.2   5.75\n",
              "8  36  4.5    8    9    7  7.6   8.51\n",
              "9  37  5.5  5.5  7.5  7.5  6.9   8.27"
            ]
          },
          "metadata": {
            "tags": []
          },
          "execution_count": 103
        }
      ]
    },
    {
      "cell_type": "code",
      "metadata": {
        "id": "T0-lPhe8cXuH"
      },
      "source": [
        "new_wecode = pd.DataFrame(wecode['user_id'])\n",
        "new_wecode['Sum_Problems'] = pd.DataFrame(wecode['is_final'])\n",
        "new_wecode.insert(2,'Sum_Submit', 1)\n",
        "new_wecode['Sum_Correct_Submit'] = pd.DataFrame(map(int, (wecode['pre_score'] == 10000)))\n",
        "new_wecode['Sum_Correct_Problem'] =pd.DataFrame(map(int, (wecode['pre_score'] == 10000) & (wecode['is_final'] == 1)))\n",
        "new_wecode.columns = ['id','Sum_Problems','Sum_Submit', 'Sum_Correct_Submit', 'Sum_Correct_Problem']\n",
        "new_wecode = new_wecode.groupby(['id']).sum()"
      ],
      "execution_count": 104,
      "outputs": []
    },
    {
      "cell_type": "markdown",
      "metadata": {
        "id": "YvK89m5URgLz"
      },
      "source": [
        "### Idea 1"
      ]
    },
    {
      "cell_type": "code",
      "metadata": {
        "id": "tlT6br7HRiEW"
      },
      "source": [
        "# Tính tỉ lệ nộp bài đúng trên tổng số bài đã nộp\n",
        "new_wecode['Idea1'] = new_wecode['Sum_Correct_Problem'] / new_wecode['Sum_Problems'] "
      ],
      "execution_count": 105,
      "outputs": []
    },
    {
      "cell_type": "markdown",
      "metadata": {
        "id": "iL0z5nwSSGKU"
      },
      "source": [
        "### Idea 2"
      ]
    },
    {
      "cell_type": "code",
      "metadata": {
        "id": "dpM-awvXV0JQ"
      },
      "source": [
        "new_wecode['Idea2'] = new_wecode['Sum_Submit'] / new_wecode['Sum_Correct_Problem']"
      ],
      "execution_count": 106,
      "outputs": []
    },
    {
      "cell_type": "code",
      "metadata": {
        "colab": {
          "base_uri": "https://localhost:8080/",
          "height": 434
        },
        "id": "WqAtYeumckP0",
        "outputId": "49264dd8-8d5b-48e0-f86d-f64a3ded287e"
      },
      "source": [
        "new_wecode"
      ],
      "execution_count": 107,
      "outputs": [
        {
          "output_type": "execute_result",
          "data": {
            "text/html": [
              "<div>\n",
              "<style scoped>\n",
              "    .dataframe tbody tr th:only-of-type {\n",
              "        vertical-align: middle;\n",
              "    }\n",
              "\n",
              "    .dataframe tbody tr th {\n",
              "        vertical-align: top;\n",
              "    }\n",
              "\n",
              "    .dataframe thead th {\n",
              "        text-align: right;\n",
              "    }\n",
              "</style>\n",
              "<table border=\"1\" class=\"dataframe\">\n",
              "  <thead>\n",
              "    <tr style=\"text-align: right;\">\n",
              "      <th></th>\n",
              "      <th>Sum_Problems</th>\n",
              "      <th>Sum_Submit</th>\n",
              "      <th>Sum_Correct_Submit</th>\n",
              "      <th>Sum_Correct_Problem</th>\n",
              "      <th>Idea1</th>\n",
              "      <th>Idea2</th>\n",
              "    </tr>\n",
              "    <tr>\n",
              "      <th>id</th>\n",
              "      <th></th>\n",
              "      <th></th>\n",
              "      <th></th>\n",
              "      <th></th>\n",
              "      <th></th>\n",
              "      <th></th>\n",
              "    </tr>\n",
              "  </thead>\n",
              "  <tbody>\n",
              "    <tr>\n",
              "      <th>1</th>\n",
              "      <td>2</td>\n",
              "      <td>2</td>\n",
              "      <td>1</td>\n",
              "      <td>1</td>\n",
              "      <td>0.500000</td>\n",
              "      <td>2.000000</td>\n",
              "    </tr>\n",
              "    <tr>\n",
              "      <th>4</th>\n",
              "      <td>38</td>\n",
              "      <td>54</td>\n",
              "      <td>44</td>\n",
              "      <td>37</td>\n",
              "      <td>0.973684</td>\n",
              "      <td>1.459459</td>\n",
              "    </tr>\n",
              "    <tr>\n",
              "      <th>5</th>\n",
              "      <td>5</td>\n",
              "      <td>6</td>\n",
              "      <td>3</td>\n",
              "      <td>3</td>\n",
              "      <td>0.600000</td>\n",
              "      <td>2.000000</td>\n",
              "    </tr>\n",
              "    <tr>\n",
              "      <th>6</th>\n",
              "      <td>88</td>\n",
              "      <td>130</td>\n",
              "      <td>89</td>\n",
              "      <td>85</td>\n",
              "      <td>0.965909</td>\n",
              "      <td>1.529412</td>\n",
              "    </tr>\n",
              "    <tr>\n",
              "      <th>7</th>\n",
              "      <td>2</td>\n",
              "      <td>5</td>\n",
              "      <td>0</td>\n",
              "      <td>0</td>\n",
              "      <td>0.000000</td>\n",
              "      <td>inf</td>\n",
              "    </tr>\n",
              "    <tr>\n",
              "      <th>...</th>\n",
              "      <td>...</td>\n",
              "      <td>...</td>\n",
              "      <td>...</td>\n",
              "      <td>...</td>\n",
              "      <td>...</td>\n",
              "      <td>...</td>\n",
              "    </tr>\n",
              "    <tr>\n",
              "      <th>1860</th>\n",
              "      <td>48</td>\n",
              "      <td>76</td>\n",
              "      <td>29</td>\n",
              "      <td>28</td>\n",
              "      <td>0.583333</td>\n",
              "      <td>2.714286</td>\n",
              "    </tr>\n",
              "    <tr>\n",
              "      <th>1862</th>\n",
              "      <td>6</td>\n",
              "      <td>12</td>\n",
              "      <td>4</td>\n",
              "      <td>4</td>\n",
              "      <td>0.666667</td>\n",
              "      <td>3.000000</td>\n",
              "    </tr>\n",
              "    <tr>\n",
              "      <th>1864</th>\n",
              "      <td>63</td>\n",
              "      <td>187</td>\n",
              "      <td>30</td>\n",
              "      <td>28</td>\n",
              "      <td>0.444444</td>\n",
              "      <td>6.678571</td>\n",
              "    </tr>\n",
              "    <tr>\n",
              "      <th>1865</th>\n",
              "      <td>17</td>\n",
              "      <td>99</td>\n",
              "      <td>10</td>\n",
              "      <td>10</td>\n",
              "      <td>0.588235</td>\n",
              "      <td>9.900000</td>\n",
              "    </tr>\n",
              "    <tr>\n",
              "      <th>1868</th>\n",
              "      <td>27</td>\n",
              "      <td>47</td>\n",
              "      <td>38</td>\n",
              "      <td>27</td>\n",
              "      <td>1.000000</td>\n",
              "      <td>1.740741</td>\n",
              "    </tr>\n",
              "  </tbody>\n",
              "</table>\n",
              "<p>1159 rows × 6 columns</p>\n",
              "</div>"
            ],
            "text/plain": [
              "      Sum_Problems  Sum_Submit  ...     Idea1     Idea2\n",
              "id                              ...                    \n",
              "1                2           2  ...  0.500000  2.000000\n",
              "4               38          54  ...  0.973684  1.459459\n",
              "5                5           6  ...  0.600000  2.000000\n",
              "6               88         130  ...  0.965909  1.529412\n",
              "7                2           5  ...  0.000000       inf\n",
              "...            ...         ...  ...       ...       ...\n",
              "1860            48          76  ...  0.583333  2.714286\n",
              "1862             6          12  ...  0.666667  3.000000\n",
              "1864            63         187  ...  0.444444  6.678571\n",
              "1865            17          99  ...  0.588235  9.900000\n",
              "1868            27          47  ...  1.000000  1.740741\n",
              "\n",
              "[1159 rows x 6 columns]"
            ]
          },
          "metadata": {
            "tags": []
          },
          "execution_count": 107
        }
      ]
    },
    {
      "cell_type": "markdown",
      "metadata": {
        "id": "gJRUF2d2Nmue"
      },
      "source": [
        "## **III) Merge data**"
      ]
    },
    {
      "cell_type": "code",
      "metadata": {
        "id": "V_Fnte3XM7cm"
      },
      "source": [
        "CK = score_training[['id','CK']]"
      ],
      "execution_count": 108,
      "outputs": []
    },
    {
      "cell_type": "code",
      "metadata": {
        "id": "yrZWXFDNLZOk"
      },
      "source": [
        "data_final = pd.merge(new_wecode, CK, on='id',how='outer')\n",
        "data_final = data_final.dropna()"
      ],
      "execution_count": 109,
      "outputs": []
    },
    {
      "cell_type": "code",
      "metadata": {
        "colab": {
          "base_uri": "https://localhost:8080/",
          "height": 404
        },
        "id": "Gfcbb2X0NLqN",
        "outputId": "932f28ea-8e32-44d9-ac37-5f3a0b3a31f8"
      },
      "source": [
        "data_final"
      ],
      "execution_count": 110,
      "outputs": [
        {
          "output_type": "execute_result",
          "data": {
            "text/html": [
              "<div>\n",
              "<style scoped>\n",
              "    .dataframe tbody tr th:only-of-type {\n",
              "        vertical-align: middle;\n",
              "    }\n",
              "\n",
              "    .dataframe tbody tr th {\n",
              "        vertical-align: top;\n",
              "    }\n",
              "\n",
              "    .dataframe thead th {\n",
              "        text-align: right;\n",
              "    }\n",
              "</style>\n",
              "<table border=\"1\" class=\"dataframe\">\n",
              "  <thead>\n",
              "    <tr style=\"text-align: right;\">\n",
              "      <th></th>\n",
              "      <th>id</th>\n",
              "      <th>Sum_Problems</th>\n",
              "      <th>Sum_Submit</th>\n",
              "      <th>Sum_Correct_Submit</th>\n",
              "      <th>Sum_Correct_Problem</th>\n",
              "      <th>Idea1</th>\n",
              "      <th>Idea2</th>\n",
              "      <th>CK</th>\n",
              "    </tr>\n",
              "  </thead>\n",
              "  <tbody>\n",
              "    <tr>\n",
              "      <th>9</th>\n",
              "      <td>24</td>\n",
              "      <td>77.0</td>\n",
              "      <td>164.0</td>\n",
              "      <td>80.0</td>\n",
              "      <td>72.0</td>\n",
              "      <td>0.935065</td>\n",
              "      <td>2.277778</td>\n",
              "      <td>9.5</td>\n",
              "    </tr>\n",
              "    <tr>\n",
              "      <th>10</th>\n",
              "      <td>27</td>\n",
              "      <td>5.0</td>\n",
              "      <td>13.0</td>\n",
              "      <td>4.0</td>\n",
              "      <td>3.0</td>\n",
              "      <td>0.600000</td>\n",
              "      <td>4.333333</td>\n",
              "      <td>10</td>\n",
              "    </tr>\n",
              "    <tr>\n",
              "      <th>11</th>\n",
              "      <td>29</td>\n",
              "      <td>80.0</td>\n",
              "      <td>199.0</td>\n",
              "      <td>75.0</td>\n",
              "      <td>72.0</td>\n",
              "      <td>0.900000</td>\n",
              "      <td>2.763889</td>\n",
              "      <td>8.5</td>\n",
              "    </tr>\n",
              "    <tr>\n",
              "      <th>13</th>\n",
              "      <td>34</td>\n",
              "      <td>84.0</td>\n",
              "      <td>218.0</td>\n",
              "      <td>81.0</td>\n",
              "      <td>81.0</td>\n",
              "      <td>0.964286</td>\n",
              "      <td>2.691358</td>\n",
              "      <td>6.5</td>\n",
              "    </tr>\n",
              "    <tr>\n",
              "      <th>14</th>\n",
              "      <td>35</td>\n",
              "      <td>151.0</td>\n",
              "      <td>297.0</td>\n",
              "      <td>152.0</td>\n",
              "      <td>145.0</td>\n",
              "      <td>0.960265</td>\n",
              "      <td>2.048276</td>\n",
              "      <td>4.5</td>\n",
              "    </tr>\n",
              "    <tr>\n",
              "      <th>...</th>\n",
              "      <td>...</td>\n",
              "      <td>...</td>\n",
              "      <td>...</td>\n",
              "      <td>...</td>\n",
              "      <td>...</td>\n",
              "      <td>...</td>\n",
              "      <td>...</td>\n",
              "      <td>...</td>\n",
              "    </tr>\n",
              "    <tr>\n",
              "      <th>1151</th>\n",
              "      <td>1856</td>\n",
              "      <td>31.0</td>\n",
              "      <td>64.0</td>\n",
              "      <td>23.0</td>\n",
              "      <td>23.0</td>\n",
              "      <td>0.741935</td>\n",
              "      <td>2.782609</td>\n",
              "      <td>7.5</td>\n",
              "    </tr>\n",
              "    <tr>\n",
              "      <th>1152</th>\n",
              "      <td>1857</td>\n",
              "      <td>40.0</td>\n",
              "      <td>55.0</td>\n",
              "      <td>37.0</td>\n",
              "      <td>37.0</td>\n",
              "      <td>0.925000</td>\n",
              "      <td>1.486486</td>\n",
              "      <td>4</td>\n",
              "    </tr>\n",
              "    <tr>\n",
              "      <th>1153</th>\n",
              "      <td>1859</td>\n",
              "      <td>30.0</td>\n",
              "      <td>31.0</td>\n",
              "      <td>3.0</td>\n",
              "      <td>3.0</td>\n",
              "      <td>0.100000</td>\n",
              "      <td>10.333333</td>\n",
              "      <td>1.5</td>\n",
              "    </tr>\n",
              "    <tr>\n",
              "      <th>1155</th>\n",
              "      <td>1862</td>\n",
              "      <td>6.0</td>\n",
              "      <td>12.0</td>\n",
              "      <td>4.0</td>\n",
              "      <td>4.0</td>\n",
              "      <td>0.666667</td>\n",
              "      <td>3.000000</td>\n",
              "      <td>7.5</td>\n",
              "    </tr>\n",
              "    <tr>\n",
              "      <th>1157</th>\n",
              "      <td>1865</td>\n",
              "      <td>17.0</td>\n",
              "      <td>99.0</td>\n",
              "      <td>10.0</td>\n",
              "      <td>10.0</td>\n",
              "      <td>0.588235</td>\n",
              "      <td>9.900000</td>\n",
              "      <td>7.5</td>\n",
              "    </tr>\n",
              "  </tbody>\n",
              "</table>\n",
              "<p>851 rows × 8 columns</p>\n",
              "</div>"
            ],
            "text/plain": [
              "        id  Sum_Problems  Sum_Submit  ...     Idea1      Idea2   CK\n",
              "9       24          77.0       164.0  ...  0.935065   2.277778  9.5\n",
              "10      27           5.0        13.0  ...  0.600000   4.333333   10\n",
              "11      29          80.0       199.0  ...  0.900000   2.763889  8.5\n",
              "13      34          84.0       218.0  ...  0.964286   2.691358  6.5\n",
              "14      35         151.0       297.0  ...  0.960265   2.048276  4.5\n",
              "...    ...           ...         ...  ...       ...        ...  ...\n",
              "1151  1856          31.0        64.0  ...  0.741935   2.782609  7.5\n",
              "1152  1857          40.0        55.0  ...  0.925000   1.486486    4\n",
              "1153  1859          30.0        31.0  ...  0.100000  10.333333  1.5\n",
              "1155  1862           6.0        12.0  ...  0.666667   3.000000  7.5\n",
              "1157  1865          17.0        99.0  ...  0.588235   9.900000  7.5\n",
              "\n",
              "[851 rows x 8 columns]"
            ]
          },
          "metadata": {
            "tags": []
          },
          "execution_count": 110
        }
      ]
    },
    {
      "cell_type": "markdown",
      "metadata": {
        "id": "L81XdPuNOflw"
      },
      "source": [
        "## **IV) Visualization**"
      ]
    },
    {
      "cell_type": "code",
      "metadata": {
        "id": "Vl6D9k7jUH43"
      },
      "source": [
        "data_plot = data_final.copy()\n",
        "data_plot=data_plot.sort_values(by='CK', ascending=False)"
      ],
      "execution_count": 115,
      "outputs": []
    },
    {
      "cell_type": "markdown",
      "metadata": {
        "id": "0XQVdyYvVFl3"
      },
      "source": [
        "### Sum Correct Problem dive Sum Problem and CK"
      ]
    },
    {
      "cell_type": "code",
      "metadata": {
        "colab": {
          "base_uri": "https://localhost:8080/",
          "height": 296
        },
        "id": "CnJ5a4usUlMW",
        "outputId": "e9312bd8-e485-4251-ca44-1c21f36da7b1"
      },
      "source": [
        "sns.scatterplot(x=\"Idea1\", y=\"CK\", data=data_plot)"
      ],
      "execution_count": 116,
      "outputs": [
        {
          "output_type": "execute_result",
          "data": {
            "text/plain": [
              "<matplotlib.axes._subplots.AxesSubplot at 0x7fd7b949d8d0>"
            ]
          },
          "metadata": {
            "tags": []
          },
          "execution_count": 116
        },
        {
          "output_type": "display_data",
          "data": {
            "image/png": "[encoded data removed]",
            "text/plain": [
              "<Figure size 432x288 with 1 Axes>"
            ]
          },
          "metadata": {
            "tags": [],
            "needs_background": "light"
          }
        }
      ]
    },
    {
      "cell_type": "markdown",
      "metadata": {
        "id": "7e1ReF-UVNsH"
      },
      "source": [
        "### Sum Correct Problem and CK"
      ]
    },
    {
      "cell_type": "code",
      "metadata": {
        "colab": {
          "base_uri": "https://localhost:8080/",
          "height": 297
        },
        "id": "lK_kpAE1U9Ui",
        "outputId": "933a1d2a-e80b-4db7-87ff-9227988867fd"
      },
      "source": [
        "sns.scatterplot(x=\"Sum_Correct_Problem\", y=\"CK\", data=data_plot)"
      ],
      "execution_count": 119,
      "outputs": [
        {
          "output_type": "execute_result",
          "data": {
            "text/plain": [
              "<matplotlib.axes._subplots.AxesSubplot at 0x7fd7b5f07590>"
            ]
          },
          "metadata": {
            "tags": []
          },
          "execution_count": 119
        },
        {
          "output_type": "display_data",
          "data": {
            "image/png": "[encoded data removed]",
            "text/plain": [
              "<Figure size 432x288 with 1 Axes>"
            ]
          },
          "metadata": {
            "tags": [],
            "needs_background": "light"
          }
        }
      ]
    },
    {
      "cell_type": "markdown",
      "metadata": {
        "id": "Mfn36SNuWCUB"
      },
      "source": [
        "### Sum Submit dived Sum Correct Problem and CK"
      ]
    },
    {
      "cell_type": "code",
      "metadata": {
        "colab": {
          "base_uri": "https://localhost:8080/",
          "height": 296
        },
        "id": "PzqeITFBVC7X",
        "outputId": "9893f9a4-e00c-41d0-f4c4-19035bc7889e"
      },
      "source": [
        "sns.scatterplot(x=\"Idea2\", y=\"CK\", data=data_plot)"
      ],
      "execution_count": 118,
      "outputs": [
        {
          "output_type": "execute_result",
          "data": {
            "text/plain": [
              "<matplotlib.axes._subplots.AxesSubplot at 0x7fd7b606f750>"
            ]
          },
          "metadata": {
            "tags": []
          },
          "execution_count": 118
        },
        {
          "output_type": "display_data",
          "data": {
            "image/png": "[encoded data removed]",
            "text/plain": [
              "<Figure size 432x288 with 1 Axes>"
            ]
          },
          "metadata": {
            "tags": [],
            "needs_background": "light"
          }
        }
      ]
    },
    {
      "cell_type": "markdown",
      "metadata": {
        "id": "_qrPKJ7hYIRw"
      },
      "source": [
        "### Sum Problem and CK"
      ]
    },
    {
      "cell_type": "code",
      "metadata": {
        "colab": {
          "base_uri": "https://localhost:8080/",
          "height": 297
        },
        "id": "g0ypZ8zgYMao",
        "outputId": "37cdd07d-f5df-438e-e896-92f3f4c02ee4"
      },
      "source": [
        "sns.scatterplot(x=\"Sum_Problems\", y=\"CK\",data=data_plot)"
      ],
      "execution_count": 121,
      "outputs": [
        {
          "output_type": "execute_result",
          "data": {
            "text/plain": [
              "<matplotlib.axes._subplots.AxesSubplot at 0x7fd7b5e4ffd0>"
            ]
          },
          "metadata": {
            "tags": []
          },
          "execution_count": 121
        },
        {
          "output_type": "display_data",
          "data": {
            "image/png": "[encoded data removed]",
            "text/plain": [
              "<Figure size 432x288 with 1 Axes>"
            ]
          },
          "metadata": {
            "tags": [],
            "needs_background": "light"
          }
        }
      ]
    }
  ]
}