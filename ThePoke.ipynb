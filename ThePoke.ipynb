{
  "nbformat": 4,
  "nbformat_minor": 0,
  "metadata": {
    "colab": {
      "name": "ThePoke.ipynb",
      "provenance": [],
      "authorship_tag": "ABX9TyP0+gyRfeOZkQdj/zNks9U+",
      "include_colab_link": true
    },
    "kernelspec": {
      "name": "python3",
      "display_name": "Python 3"
    },
    "language_info": {
      "name": "python"
    }
  },
  "cells": [
    {
      "cell_type": "markdown",
      "metadata": {
        "id": "view-in-github",
        "colab_type": "text"
      },
      "source": [
        "<a href=\"https://colab.research.google.com/github/lavatus/CS114.L21/blob/main/ThePoke.ipynb\" target=\"_parent\"><img src=\"https://colab.research.google.com/assets/colab-badge.svg\" alt=\"Open In Colab\"/></a>"
      ]
    },
    {
      "cell_type": "code",
      "metadata": {
        "id": "1Euq6skwDR3p",
        "colab": {
          "base_uri": "https://localhost:8080/"
        },
        "outputId": "cc33f89b-cecc-46ac-82cf-a7eedf549dc1"
      },
      "source": [
        "import requests\n",
        "from bs4 import BeautifulSoup\n",
        "import json\n",
        "import pandas as pd\n",
        "\n",
        "data = []\n",
        "endPage = 700\n",
        "for page in range (1,endPage+1):\n",
        "    url = 'https://www.thepoke.co.uk/page/' + str(page) + '/' \n",
        "    html = requests.get(url)\n",
        "    soup = BeautifulSoup(html.text, 'html5lib')\n",
        "    article = soup.find_all('article', class_= 'boxgrid')\n",
        "    for link in article:\n",
        "        mylink = BeautifulSoup(str(link), 'html.parser')\n",
        "        gettinglink = mylink.find('a', href=True)\n",
        "        try:\n",
        "            getArticle = link.p.string\n",
        "        except:\n",
        "            continue\n",
        "        data.append({\n",
        "            'article_link': str(gettinglink['href']),\n",
        "            'headline': str(getArticle),\n",
        "            'is_sarcastic': 1,})\n",
        "with open('thepoke.json', 'w') as f:\n",
        "    json.dump(data, f, indent = 3)\n",
        "print(len(data))"
      ],
      "execution_count": null,
      "outputs": [
        {
          "output_type": "stream",
          "text": [
            "12610\n"
          ],
          "name": "stdout"
        }
      ]
    },
    {
      "cell_type": "code",
      "metadata": {
        "colab": {
          "base_uri": "https://localhost:8080/",
          "height": 415
        },
        "id": "QRHMxB-RlOpj",
        "outputId": "88049103-4735-4bdf-c263-f996c10a121f"
      },
      "source": [
        "data = pd.read_json('thepoke.json')\n",
        "data"
      ],
      "execution_count": null,
      "outputs": [
        {
          "output_type": "execute_result",
          "data": {
            "text/html": [
              "<div>\n",
              "<style scoped>\n",
              "    .dataframe tbody tr th:only-of-type {\n",
              "        vertical-align: middle;\n",
              "    }\n",
              "\n",
              "    .dataframe tbody tr th {\n",
              "        vertical-align: top;\n",
              "    }\n",
              "\n",
              "    .dataframe thead th {\n",
              "        text-align: right;\n",
              "    }\n",
              "</style>\n",
              "<table border=\"1\" class=\"dataframe\">\n",
              "  <thead>\n",
              "    <tr style=\"text-align: right;\">\n",
              "      <th></th>\n",
              "      <th>article_link</th>\n",
              "      <th>headline</th>\n",
              "      <th>is_sarcastic</th>\n",
              "    </tr>\n",
              "  </thead>\n",
              "  <tbody>\n",
              "    <tr>\n",
              "      <th>0</th>\n",
              "      <td>https://www.thepoke.co.uk/2021/06/25/21-times-...</td>\n",
              "      <td>21 times people went fully passive-aggressive ...</td>\n",
              "      <td>1</td>\n",
              "    </tr>\n",
              "    <tr>\n",
              "      <th>1</th>\n",
              "      <td>https://www.thepoke.co.uk/2021/06/25/george-os...</td>\n",
              "      <td>George Osborne has been appointed Chair of the...</td>\n",
              "      <td>1</td>\n",
              "    </tr>\n",
              "    <tr>\n",
              "      <th>2</th>\n",
              "      <td>https://www.thepoke.co.uk/2021/06/24/this-take...</td>\n",
              "      <td>This takedown of a woman who said gay people c...</td>\n",
              "      <td>1</td>\n",
              "    </tr>\n",
              "    <tr>\n",
              "      <th>3</th>\n",
              "      <td>https://www.thepoke.co.uk/2021/03/23/daisy-may...</td>\n",
              "      <td>Daisy May Cooper winding up her publisher is a...</td>\n",
              "      <td>1</td>\n",
              "    </tr>\n",
              "    <tr>\n",
              "      <th>4</th>\n",
              "      <td>https://www.thepoke.co.uk/2021/06/24/18-awful-...</td>\n",
              "      <td>18 hilariously awful ‘neighbours from hell’ to...</td>\n",
              "      <td>1</td>\n",
              "    </tr>\n",
              "    <tr>\n",
              "      <th>...</th>\n",
              "      <td>...</td>\n",
              "      <td>...</td>\n",
              "      <td>...</td>\n",
              "    </tr>\n",
              "    <tr>\n",
              "      <th>12605</th>\n",
              "      <td>https://www.thepoke.co.uk/2018/04/13/guys-culi...</td>\n",
              "      <td>This guy’s culinary rant inspired lots more ri...</td>\n",
              "      <td>1</td>\n",
              "    </tr>\n",
              "    <tr>\n",
              "      <th>12606</th>\n",
              "      <td>https://www.thepoke.co.uk/2018/04/13/graph-of-...</td>\n",
              "      <td>Best graph you’ll see this week</td>\n",
              "      <td>1</td>\n",
              "    </tr>\n",
              "    <tr>\n",
              "      <th>12607</th>\n",
              "      <td>https://www.thepoke.co.uk/2018/04/13/graph-wil...</td>\n",
              "      <td>This graph will make you feel better about tha...</td>\n",
              "      <td>1</td>\n",
              "    </tr>\n",
              "    <tr>\n",
              "      <th>12608</th>\n",
              "      <td>https://www.thepoke.co.uk/2018/04/13/universit...</td>\n",
              "      <td>This University Challenge contestant is the pe...</td>\n",
              "      <td>1</td>\n",
              "    </tr>\n",
              "    <tr>\n",
              "      <th>12609</th>\n",
              "      <td>https://www.thepoke.co.uk/2018/04/13/professor...</td>\n",
              "      <td>This takedown of Donald Trump went viral becau...</td>\n",
              "      <td>1</td>\n",
              "    </tr>\n",
              "  </tbody>\n",
              "</table>\n",
              "<p>12610 rows × 3 columns</p>\n",
              "</div>"
            ],
            "text/plain": [
              "                                            article_link  ... is_sarcastic\n",
              "0      https://www.thepoke.co.uk/2021/06/25/21-times-...  ...            1\n",
              "1      https://www.thepoke.co.uk/2021/06/25/george-os...  ...            1\n",
              "2      https://www.thepoke.co.uk/2021/06/24/this-take...  ...            1\n",
              "3      https://www.thepoke.co.uk/2021/03/23/daisy-may...  ...            1\n",
              "4      https://www.thepoke.co.uk/2021/06/24/18-awful-...  ...            1\n",
              "...                                                  ...  ...          ...\n",
              "12605  https://www.thepoke.co.uk/2018/04/13/guys-culi...  ...            1\n",
              "12606  https://www.thepoke.co.uk/2018/04/13/graph-of-...  ...            1\n",
              "12607  https://www.thepoke.co.uk/2018/04/13/graph-wil...  ...            1\n",
              "12608  https://www.thepoke.co.uk/2018/04/13/universit...  ...            1\n",
              "12609  https://www.thepoke.co.uk/2018/04/13/professor...  ...            1\n",
              "\n",
              "[12610 rows x 3 columns]"
            ]
          },
          "metadata": {
            "tags": []
          },
          "execution_count": 3
        }
      ]
    }
  ]
}