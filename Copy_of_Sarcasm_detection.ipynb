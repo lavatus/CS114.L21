{
  "nbformat": 4,
  "nbformat_minor": 0,
  "metadata": {
    "colab": {
      "name": "Copy of Sarcasm_detection.ipynb",
      "provenance": [],
      "collapsed_sections": [
        "Xjbbo9dTSmBn"
      ],
      "include_colab_link": true
    },
    "kernelspec": {
      "display_name": "Python 3",
      "name": "python3"
    },
    "language_info": {
      "name": "python"
    }
  },
  "cells": [
    {
      "cell_type": "markdown",
      "metadata": {
        "id": "view-in-github",
        "colab_type": "text"
      },
      "source": [
        "<a href=\"https://colab.research.google.com/github/lavatus/CS114.L21/blob/main/Copy_of_Sarcasm_detection.ipynb\" target=\"_parent\"><img src=\"https://colab.research.google.com/assets/colab-badge.svg\" alt=\"Open In Colab\"/></a>"
      ]
    },
    {
      "cell_type": "markdown",
      "metadata": {
        "id": "N-cw8GAsY3kc"
      },
      "source": [
        "# **NHẬN DIỆN TIN CHÂM BIẾM QUA TIÊU ĐỀ CÁC BÀI BÁO :** "
      ]
    },
    {
      "cell_type": "markdown",
      "metadata": {
        "id": "Xjbbo9dTSmBn"
      },
      "source": [
        "### **Các thành viên trong nhóm** :\n",
        "* Nguyễn Trung Tuấn -19522477\n",
        "* Dương Nguyễn Thuận - 19522312\n",
        "* Nguyễn Việt Thư - 19522309\n"
      ]
    },
    {
      "cell_type": "markdown",
      "metadata": {
        "id": "km4uqZmHbWuR"
      },
      "source": [
        "## **I. Import các thư viện cần thiết :**"
      ]
    },
    {
      "cell_type": "code",
      "metadata": {
        "id": "i5z5ZM2Achwq"
      },
      "source": [
        "import matplotlib.pyplot as plt\n",
        "from sklearn.model_selection import train_test_split\n",
        "import nltk\n",
        "import string\n",
        "from nltk.corpus import stopwords, brown\n",
        "import numpy as np\n",
        "from sklearn.feature_extraction.text import TfidfVectorizer, CountVectorizer\n",
        "from sklearn.svm import LinearSVC\n",
        "from sklearn.linear_model import LogisticRegression\n",
        "from sklearn.neighbors import KNeighborsClassifier\n",
        "from sklearn.model_selection import cross_val_score, StratifiedKFold\n",
        "import plotly.graph_objs as go\n",
        "from sklearn.metrics import classification_report\n",
        "from sklearn.metrics import confusion_matrix"
      ],
      "execution_count": null,
      "outputs": []
    },
    {
      "cell_type": "markdown",
      "metadata": {
        "id": "MLcMhMIq_fAE"
      },
      "source": [
        "## **II. Đọc dữ liệu**"
      ]
    },
    {
      "cell_type": "markdown",
      "metadata": {
        "id": "bxgYJ7cGGONj"
      },
      "source": [
        "* Dữ liệu đã được crawl sẵn trên github chỉ cần up lên và sử dụng [Data](https://github.com/lavatus/CS114.L21/tree/main/Assignments/Sarcasm%20detection%20in%20news%20headline/File%20json)\n",
        "* Code thu thập dữ liệu [Code](https://github.com/lavatus/CS114.L21/tree/main/Assignments/Sarcasm%20detection%20in%20news%20headline/Colab%20File)"
      ]
    },
    {
      "cell_type": "code",
      "metadata": {
        "id": "izaffzzq-2rL"
      },
      "source": [
        "import pandas as pd\n",
        "bestAu = pd.read_json('/content/0_BestInAu.json', lines =True )\n",
        "NBC = pd.read_json('/content/0_NBCNews.json')\n",
        "citynews = pd.read_json('/content/0_citynews.json', lines =True )\n",
        "babylon = pd.read_json('/content/1_babylonbee.json')\n",
        "clickhole =  pd.read_json('/content/1_clickhole.json')\n",
        "thebeaverton =  pd.read_json('/content/1_thebeaverton.json')\n",
        "thepoke = pd.read_json('/content/1_thepoke.json')\n",
        "data = pd.concat([bestAu, NBC, citynews, babylon, clickhole, thebeaverton, thepoke])"
      ],
      "execution_count": null,
      "outputs": []
    },
    {
      "cell_type": "code",
      "metadata": {
        "colab": {
          "base_uri": "https://localhost:8080/"
        },
        "id": "hRhuSOaa_ngi",
        "outputId": "1853b75d-4977-4045-c33e-a8fcc2bd9344"
      },
      "source": [
        "data.info()"
      ],
      "execution_count": null,
      "outputs": [
        {
          "output_type": "stream",
          "text": [
            "<class 'pandas.core.frame.DataFrame'>\n",
            "Int64Index: 86408 entries, 0 to 12609\n",
            "Data columns (total 3 columns):\n",
            " #   Column        Non-Null Count  Dtype \n",
            "---  ------        --------------  ----- \n",
            " 0   article_link  86408 non-null  object\n",
            " 1   headline      86408 non-null  object\n",
            " 2   is_sarcastic  86408 non-null  int64 \n",
            "dtypes: int64(1), object(2)\n",
            "memory usage: 2.6+ MB\n"
          ],
          "name": "stdout"
        }
      ]
    },
    {
      "cell_type": "code",
      "metadata": {
        "colab": {
          "base_uri": "https://localhost:8080/"
        },
        "id": "EHqFU7Yb_s3p",
        "outputId": "d188e568-8846-4eda-f58a-76a129b9037f"
      },
      "source": [
        "data['is_sarcastic'].value_counts()"
      ],
      "execution_count": null,
      "outputs": [
        {
          "output_type": "execute_result",
          "data": {
            "text/plain": [
              "0    62930\n",
              "1    23478\n",
              "Name: is_sarcastic, dtype: int64"
            ]
          },
          "metadata": {
            "tags": []
          },
          "execution_count": 18
        }
      ]
    },
    {
      "cell_type": "markdown",
      "metadata": {
        "id": "5Ze6zi0f9KZ5"
      },
      "source": [
        "###**Nhận xét :**\n",
        "* Nhóm thu thâp được tổng cộng 86408 bài báo. Trong đó có: \n",
        "  + 62930 bài báo chính thống\n",
        "  + 23478 bài báo không chính thống\n",
        "* Số lượng báo chính thống gấp hơn 3 lần so với báo châm biếm. \n",
        "* Có thể dễ dàng nhìn thấy dữ liệu của chúng ta bị mất cân bằng, điều này dẫn đến accuracy của model có thể thấp và việc dự đoán sẽ dễ bị lệch về chính thống hơn."
      ]
    },
    {
      "cell_type": "markdown",
      "metadata": {
        "id": "JxHu1rXj-VL7"
      },
      "source": [
        "## **III. Tiền xử lý dữ liệu :**"
      ]
    },
    {
      "cell_type": "code",
      "metadata": {
        "id": "LgZ7dSQzPsCd"
      },
      "source": [
        "X = data[\"headline\"].values\n",
        "y = data[\"is_sarcastic\"].values"
      ],
      "execution_count": null,
      "outputs": []
    },
    {
      "cell_type": "markdown",
      "metadata": {
        "id": "hJ5JArKTcX7W"
      },
      "source": [
        "### **1. Tạo vocalbulary theo data đã thu thập :**"
      ]
    },
    {
      "cell_type": "code",
      "metadata": {
        "id": "d69qLFejj1UF"
      },
      "source": [
        "stop_words = set(stopwords.words('english')) # Vd: a, an ,is ,..."
      ],
      "execution_count": null,
      "outputs": []
    },
    {
      "cell_type": "code",
      "metadata": {
        "id": "u3CfWbcw_Q_9"
      },
      "source": [
        "# tập các từ tiếng Anh của thư viện nltk\n",
        "corpora_nltk = brown.words(categories='news')"
      ],
      "execution_count": null,
      "outputs": []
    },
    {
      "cell_type": "code",
      "metadata": {
        "id": "8Yuz4EHv5f36"
      },
      "source": [
        "\n",
        "def preprocessing(text): # Loại bỏ các kí tự không phải alphabet, chuyển sang chữ thường, loại bỏ các stop word\n",
        "  table = str.maketrans('', '', string.punctuation)\n",
        "  stripped = [w.translate(table) for w in text]\n",
        "  words = [word for word in stripped if word.isalpha()]\n",
        "\n",
        "  words = [w for w in words if not w in stop_words]\n",
        "\n",
        "  vocabulary = [w.lower() for w in words]\n",
        "  vocabulary = list(dict.fromkeys(vocabulary))\n",
        "  return vocabulary"
      ],
      "execution_count": null,
      "outputs": []
    },
    {
      "cell_type": "code",
      "metadata": {
        "id": "FJ8s8I6i_6oc"
      },
      "source": [
        "corpora_nltk = preprocessing(corpora_nltk)"
      ],
      "execution_count": null,
      "outputs": []
    },
    {
      "cell_type": "markdown",
      "metadata": {
        "id": "2QECE2k-c7d3"
      },
      "source": [
        "### **2. Chia train, test :**"
      ]
    },
    {
      "cell_type": "code",
      "metadata": {
        "id": "Vc1IGIYLQjVG"
      },
      "source": [
        "X_train, X_test, y_train, y_test = train_test_split(X, y, test_size=0.25, random_state=1000)"
      ],
      "execution_count": null,
      "outputs": []
    },
    {
      "cell_type": "code",
      "metadata": {
        "colab": {
          "base_uri": "https://localhost:8080/"
        },
        "id": "ZOvBXRb-QPtd",
        "outputId": "8384a8d5-a993-494e-e352-d3970d149376"
      },
      "source": [
        "print(\"X_train size : \" + str(X_train.shape))\n",
        "print(\"X_test size : \" + str(X_test.shape))"
      ],
      "execution_count": null,
      "outputs": [
        {
          "output_type": "stream",
          "text": [
            "X_train size : (64806,)\n",
            "X_test size : (21602,)\n"
          ],
          "name": "stdout"
        }
      ]
    },
    {
      "cell_type": "markdown",
      "metadata": {
        "id": "4qzMTr_A0_6o"
      },
      "source": [
        "### **3. Dùng CountVectorizer để vectorize (đếm số lần xuất hiện) :**\n"
      ]
    },
    {
      "cell_type": "markdown",
      "metadata": {
        "id": "cVOs0z6ydLdu"
      },
      "source": [
        "* Hàm trả về ma trận scipy.sparse.csr.csr_matrix lưu trữ vị trí của từ đó trong từ điển và số lần xuất hiện trong câu :"
      ]
    },
    {
      "cell_type": "code",
      "metadata": {
        "colab": {
          "base_uri": "https://localhost:8080/"
        },
        "id": "5sBJaMkBQ_rG",
        "outputId": "ba74ff9f-9f14-4b89-bb21-28d26cf9a6b9"
      },
      "source": [
        "vectorizer_CV = CountVectorizer(stop_words = stop_words, vocabulary = corpora_nltk, strip_accents = 'ascii')\n",
        "vectorizer_CV.fit(X_train)\n",
        "\n",
        "X_train_CV = vectorizer_CV.transform(X_train)\n",
        "X_test_CV  = vectorizer_CV.transform(X_test)\n",
        "print(X_train_CV.shape)"
      ],
      "execution_count": null,
      "outputs": [
        {
          "output_type": "stream",
          "text": [
            "(64806, 12085)\n"
          ],
          "name": "stdout"
        }
      ]
    },
    {
      "cell_type": "markdown",
      "metadata": {
        "id": "E8Q4gcl31avE"
      },
      "source": [
        "### **4. Dùng TF-IDF:**"
      ]
    },
    {
      "cell_type": "code",
      "metadata": {
        "colab": {
          "base_uri": "https://localhost:8080/"
        },
        "id": "zN2X7ESA2CqA",
        "outputId": "b8a0597e-32e1-4500-c7a1-26290db0d4eb"
      },
      "source": [
        "vectorizer_TF = TfidfVectorizer(stop_words = stop_words, vocabulary = corpora_nltk, strip_accents = 'ascii')\n",
        "vectorizer_TF.fit(X_train)\n",
        "\n",
        "X_train_TF = vectorizer_TF.transform(X_train)\n",
        "X_test_TF  = vectorizer_TF.transform(X_test)\n",
        "print(X_train_TF.shape)"
      ],
      "execution_count": null,
      "outputs": [
        {
          "output_type": "stream",
          "text": [
            "(64806, 12085)\n"
          ],
          "name": "stdout"
        }
      ]
    },
    {
      "cell_type": "markdown",
      "metadata": {
        "id": "7gxIDtz3cMxf"
      },
      "source": [
        "## **IV. Train model:**"
      ]
    },
    {
      "cell_type": "markdown",
      "metadata": {
        "id": "FsnqA3GzM_m6"
      },
      "source": [
        "* Chúng em sử dụng nhiều thuật toán máy học khác nhau cho bài toán phân lớp này để có thể chọn được thuật toán có accuracy cao nhất."
      ]
    },
    {
      "cell_type": "markdown",
      "metadata": {
        "id": "13y5pj5uft8X"
      },
      "source": [
        "### **1. Support vector machine (SVM)**"
      ]
    },
    {
      "cell_type": "markdown",
      "metadata": {
        "id": "7e_Hekv3jv2N"
      },
      "source": [
        "* SVM với Count Vectorizer :"
      ]
    },
    {
      "cell_type": "code",
      "metadata": {
        "id": "TknvcZKO7-tj"
      },
      "source": [
        "classifier_SVM_CV = LinearSVC().fit(X_train_CV, y_train)\n",
        "score_SVM_CV = classifier_SVM_CV.score(X_test_CV, y_test)"
      ],
      "execution_count": null,
      "outputs": []
    },
    {
      "cell_type": "code",
      "metadata": {
        "colab": {
          "base_uri": "https://localhost:8080/"
        },
        "id": "YoD5ZOOWjQdt",
        "outputId": "56363561-1d58-4de1-946c-a1a50fad988c"
      },
      "source": [
        "y_pred = classifier_SVM_CV.predict(X_test_CV)\n",
        "print(classification_report(y_test, y_pred, labels=[0, 1]))"
      ],
      "execution_count": null,
      "outputs": [
        {
          "output_type": "stream",
          "text": [
            "              precision    recall  f1-score   support\n",
            "\n",
            "           0       0.90      0.93      0.91     15665\n",
            "           1       0.80      0.72      0.76      5937\n",
            "\n",
            "    accuracy                           0.87     21602\n",
            "   macro avg       0.85      0.82      0.84     21602\n",
            "weighted avg       0.87      0.87      0.87     21602\n",
            "\n"
          ],
          "name": "stdout"
        }
      ]
    },
    {
      "cell_type": "code",
      "metadata": {
        "colab": {
          "base_uri": "https://localhost:8080/"
        },
        "id": "XXo8LgYhKB_B",
        "outputId": "4442ee6b-544a-4088-d7ed-7c5d65a44f9c"
      },
      "source": [
        "confusion_matrix(y_test, y_pred, normalize= 'true')"
      ],
      "execution_count": null,
      "outputs": [
        {
          "output_type": "execute_result",
          "data": {
            "text/plain": [
              "array([[0.93405681, 0.06594319],\n",
              "       [0.28482399, 0.71517601]])"
            ]
          },
          "metadata": {
            "tags": []
          },
          "execution_count": 112
        }
      ]
    },
    {
      "cell_type": "markdown",
      "metadata": {
        "id": "kZ-L6YvLj0rK"
      },
      "source": [
        "* SVM với TF-IDF Vectorizer:"
      ]
    },
    {
      "cell_type": "code",
      "metadata": {
        "id": "DBXN7XQp8-Q3"
      },
      "source": [
        "classifier_SVM_TF = LinearSVC().fit(X_train_TF, y_train)\n",
        "score_SVM_TF = classifier_SVM_TF.score(X_test_TF, y_test)"
      ],
      "execution_count": null,
      "outputs": []
    },
    {
      "cell_type": "code",
      "metadata": {
        "colab": {
          "base_uri": "https://localhost:8080/"
        },
        "id": "x-sdfCa9jspy",
        "outputId": "dc77139f-fa20-4583-9ae1-4e44f05ff03e"
      },
      "source": [
        "y_pred = classifier_SVM_TF.predict(X_test_TF)\n",
        "print(classification_report(y_test, y_pred, labels=[0, 1]))"
      ],
      "execution_count": null,
      "outputs": [
        {
          "output_type": "stream",
          "text": [
            "              precision    recall  f1-score   support\n",
            "\n",
            "           0       0.90      0.94      0.92     15665\n",
            "           1       0.82      0.71      0.76      5937\n",
            "\n",
            "    accuracy                           0.88     21602\n",
            "   macro avg       0.86      0.83      0.84     21602\n",
            "weighted avg       0.88      0.88      0.88     21602\n",
            "\n"
          ],
          "name": "stdout"
        }
      ]
    },
    {
      "cell_type": "code",
      "metadata": {
        "colab": {
          "base_uri": "https://localhost:8080/"
        },
        "id": "VmlT2naEL-SG",
        "outputId": "5fd04406-9ba7-47cd-cd59-be9805080c9a"
      },
      "source": [
        "confusion_matrix(y_test, y_pred, normalize= 'true')"
      ],
      "execution_count": null,
      "outputs": [
        {
          "output_type": "execute_result",
          "data": {
            "text/plain": [
              "array([[0.941015  , 0.058985  ],\n",
              "       [0.28735051, 0.71264949]])"
            ]
          },
          "metadata": {
            "tags": []
          },
          "execution_count": 115
        }
      ]
    },
    {
      "cell_type": "markdown",
      "metadata": {
        "id": "hN-KfCmsf4T1"
      },
      "source": [
        "### **2. Logistic Regression**"
      ]
    },
    {
      "cell_type": "markdown",
      "metadata": {
        "id": "vc1D-Wt4j9Zb"
      },
      "source": [
        "* Logistic Regression với Count Vectorizer:"
      ]
    },
    {
      "cell_type": "code",
      "metadata": {
        "id": "uDvedAPNsZYO"
      },
      "source": [
        "classifier_LR_CV = LogisticRegression().fit(X_train_CV, y_train)\n",
        "score_LR_CV = classifier_LR_CV.score(X_test_CV, y_test)"
      ],
      "execution_count": null,
      "outputs": []
    },
    {
      "cell_type": "code",
      "metadata": {
        "colab": {
          "base_uri": "https://localhost:8080/"
        },
        "id": "08VIb7xGkC2z",
        "outputId": "ea907528-f353-478e-b068-5912348a462b"
      },
      "source": [
        "y_pred = classifier_LR_CV.predict(X_test_CV)\n",
        "print(classification_report(y_test, y_pred, labels=[0, 1]))"
      ],
      "execution_count": null,
      "outputs": [
        {
          "output_type": "stream",
          "text": [
            "              precision    recall  f1-score   support\n",
            "\n",
            "           0       0.89      0.95      0.92     15665\n",
            "           1       0.84      0.70      0.76      5937\n",
            "\n",
            "    accuracy                           0.88     21602\n",
            "   macro avg       0.87      0.82      0.84     21602\n",
            "weighted avg       0.88      0.88      0.88     21602\n",
            "\n"
          ],
          "name": "stdout"
        }
      ]
    },
    {
      "cell_type": "code",
      "metadata": {
        "colab": {
          "base_uri": "https://localhost:8080/"
        },
        "id": "BMxpRqNkMBAC",
        "outputId": "83dfde35-546b-4c1c-dac7-be554afe0c8f"
      },
      "source": [
        "confusion_matrix(y_test, y_pred, normalize= 'true')"
      ],
      "execution_count": null,
      "outputs": [
        {
          "output_type": "execute_result",
          "data": {
            "text/plain": [
              "array([[0.94873923, 0.05126077],\n",
              "       [0.29930942, 0.70069058]])"
            ]
          },
          "metadata": {
            "tags": []
          },
          "execution_count": 118
        }
      ]
    },
    {
      "cell_type": "markdown",
      "metadata": {
        "id": "doOyFAOQkOhH"
      },
      "source": [
        "* Logistic Regression với TF-IDF Vectorizer:"
      ]
    },
    {
      "cell_type": "code",
      "metadata": {
        "id": "yxu-_I3a2dX-"
      },
      "source": [
        "classifier_LR_TF = LogisticRegression().fit(X_train_TF, y_train)\n",
        "score_LR_TF = classifier_LR_TF.score(X_test_TF, y_test)"
      ],
      "execution_count": null,
      "outputs": []
    },
    {
      "cell_type": "code",
      "metadata": {
        "colab": {
          "base_uri": "https://localhost:8080/"
        },
        "id": "oY1ngvDPkVXt",
        "outputId": "9203363e-9dbd-4360-a47e-653e7f3e3eb9"
      },
      "source": [
        "y_pred = classifier_LR_TF.predict(X_test_TF)\n",
        "print(classification_report(y_test, y_pred, labels=[0, 1]))"
      ],
      "execution_count": null,
      "outputs": [
        {
          "output_type": "stream",
          "text": [
            "              precision    recall  f1-score   support\n",
            "\n",
            "           0       0.88      0.96      0.92     15665\n",
            "           1       0.87      0.66      0.75      5937\n",
            "\n",
            "    accuracy                           0.88     21602\n",
            "   macro avg       0.87      0.81      0.83     21602\n",
            "weighted avg       0.88      0.88      0.87     21602\n",
            "\n"
          ],
          "name": "stdout"
        }
      ]
    },
    {
      "cell_type": "code",
      "metadata": {
        "colab": {
          "base_uri": "https://localhost:8080/"
        },
        "id": "NmonB17yMB3g",
        "outputId": "f887a579-a438-4cc0-8cf6-ad922eee1ecd"
      },
      "source": [
        "confusion_matrix(y_test, y_pred, normalize= 'true')"
      ],
      "execution_count": null,
      "outputs": [
        {
          "output_type": "execute_result",
          "data": {
            "text/plain": [
              "array([[0.96157038, 0.03842962],\n",
              "       [0.34360788, 0.65639212]])"
            ]
          },
          "metadata": {
            "tags": []
          },
          "execution_count": 121
        }
      ]
    },
    {
      "cell_type": "markdown",
      "metadata": {
        "id": "NuX65UYqoza3"
      },
      "source": [
        "### **3. K-Neighbors Classifier**"
      ]
    },
    {
      "cell_type": "markdown",
      "metadata": {
        "id": "xw7gVpv-lbNr"
      },
      "source": [
        "* K-Neighbors classifier với Count Vectorizer:"
      ]
    },
    {
      "cell_type": "code",
      "metadata": {
        "id": "pAZs0w1Poyc-"
      },
      "source": [
        "classifier_KNC_CV = KNeighborsClassifier(n_neighbors=3)\n",
        "classifier_KNC_CV.fit(X_train_CV, y_train)\n",
        "score_KNC_CV = classifier_KNC_CV.score(X_test_CV, y_test)"
      ],
      "execution_count": null,
      "outputs": []
    },
    {
      "cell_type": "code",
      "metadata": {
        "colab": {
          "base_uri": "https://localhost:8080/"
        },
        "id": "vX96d5Dulj_z",
        "outputId": "541f2c83-52c9-48c0-96d4-6521996aaf12"
      },
      "source": [
        "y_pred = classifier_KNC_CV.predict(X_test_CV)\n",
        "print(classification_report(y_test, y_pred, labels=[0, 1]))"
      ],
      "execution_count": null,
      "outputs": [
        {
          "output_type": "stream",
          "text": [
            "              precision    recall  f1-score   support\n",
            "\n",
            "           0       0.83      0.85      0.84     15665\n",
            "           1       0.57      0.54      0.56      5937\n",
            "\n",
            "    accuracy                           0.76     21602\n",
            "   macro avg       0.70      0.69      0.70     21602\n",
            "weighted avg       0.76      0.76      0.76     21602\n",
            "\n"
          ],
          "name": "stdout"
        }
      ]
    },
    {
      "cell_type": "code",
      "metadata": {
        "colab": {
          "base_uri": "https://localhost:8080/"
        },
        "id": "7ZiJeXkuMEJi",
        "outputId": "f19c2d2b-b5cf-4cd5-effa-93dc6bfcb155"
      },
      "source": [
        "confusion_matrix(y_test, y_pred, normalize= 'true')"
      ],
      "execution_count": null,
      "outputs": [
        {
          "output_type": "execute_result",
          "data": {
            "text/plain": [
              "array([[0.84596234, 0.15403766],\n",
              "       [0.4574701 , 0.5425299 ]])"
            ]
          },
          "metadata": {
            "tags": []
          },
          "execution_count": 124
        }
      ]
    },
    {
      "cell_type": "markdown",
      "metadata": {
        "id": "8vkJRiqUlsyF"
      },
      "source": [
        "* K-Neighbors classifier với TF-IDF Vectorizer:"
      ]
    },
    {
      "cell_type": "code",
      "metadata": {
        "id": "TFO10dJop8ve"
      },
      "source": [
        "classifier_KNC_TF = KNeighborsClassifier(n_neighbors=2)\n",
        "classifier_KNC_TF.fit(X_train_TF, y_train)\n",
        "score_KNC_TF = classifier_KNC_TF.score(X_test_TF, y_test)"
      ],
      "execution_count": null,
      "outputs": []
    },
    {
      "cell_type": "code",
      "metadata": {
        "colab": {
          "base_uri": "https://localhost:8080/"
        },
        "id": "aBbFFAHhl0cV",
        "outputId": "6aa177c9-802e-4896-cc41-6fc924c305a2"
      },
      "source": [
        "y_pred = classifier_KNC_TF.predict(X_test_TF)\n",
        "print(classification_report(y_test, y_pred, labels=[0, 1]))"
      ],
      "execution_count": null,
      "outputs": [
        {
          "output_type": "stream",
          "text": [
            "              precision    recall  f1-score   support\n",
            "\n",
            "           0       0.76      0.99      0.86     15665\n",
            "           1       0.86      0.19      0.31      5937\n",
            "\n",
            "    accuracy                           0.77     21602\n",
            "   macro avg       0.81      0.59      0.59     21602\n",
            "weighted avg       0.79      0.77      0.71     21602\n",
            "\n"
          ],
          "name": "stdout"
        }
      ]
    },
    {
      "cell_type": "code",
      "metadata": {
        "colab": {
          "base_uri": "https://localhost:8080/"
        },
        "id": "0pYCRLXqMFJ1",
        "outputId": "aa9e7a63-4400-4e72-d49c-3cc39b27de74"
      },
      "source": [
        "confusion_matrix(y_test, y_pred, normalize= 'true')"
      ],
      "execution_count": null,
      "outputs": [
        {
          "output_type": "execute_result",
          "data": {
            "text/plain": [
              "array([[0.9881264 , 0.0118736 ],\n",
              "       [0.81084723, 0.18915277]])"
            ]
          },
          "metadata": {
            "tags": []
          },
          "execution_count": 127
        }
      ]
    },
    {
      "cell_type": "markdown",
      "metadata": {
        "id": "6a7AftI9JKE1"
      },
      "source": [
        "### **4. So sánh các model với bộ dữ liệu train test chia ra từ 6 trang thu thập được**"
      ]
    },
    {
      "cell_type": "code",
      "metadata": {
        "colab": {
          "base_uri": "https://localhost:8080/",
          "height": 1000
        },
        "id": "0nDM10HLJKRP",
        "outputId": "4ed2acf5-2600-4610-a542-5aeb34c74e2b"
      },
      "source": [
        "X = X_train_CV.copy()\n",
        "Y = y_train.copy()\n",
        "classifier_names = ['Linear SVM',\n",
        "                    'Logistic Regression',\n",
        "                    'K-Nearest Neighbors',\n",
        "                    'SGD Classifier',\n",
        "                    \"Rigde Classifier\"]\n",
        "\n",
        "\n",
        "classifiers = [LinearSVC(),\n",
        "               LogisticRegression(),\n",
        "               KNeighborsClassifier(3),]\n",
        "plot_data=[]\n",
        "name=[]\n",
        "times = [1,2,3,4,5,6,7,8,9,10]\n",
        "colors = ['red','blue','yellow']\n",
        "clf_data=zip(classifier_names, classifiers, colors)\n",
        "plt.figure(figsize= (15,8))\n",
        "for clf_name, clf, cl in clf_data:\n",
        "    print('Running '+clf_name)\n",
        "    kf=StratifiedKFold(n_splits=10, shuffle=True)\n",
        "    scores=cross_val_score(clf, X, Y, cv=kf)\n",
        "    print(scores)\n",
        "    plt.plot(times,scores, color = cl, markersize = 10)\n",
        "    name.append(clf_name)\n",
        "    plot_data.append(\n",
        "        go.Scatter(\n",
        "            x=[i+1 for i in range(10)],\n",
        "            y=scores,\n",
        "            mode='lines',\n",
        "            name=clf_name\n",
        "        )\n",
        "    )\n",
        "plt.xlim(0,13)\n",
        "plt.legend(name, loc = 'upper right')\n",
        "\n",
        "plt.xlabel('Fold no')\n",
        "plt.ylabel('Accuracy')"
      ],
      "execution_count": null,
      "outputs": [
        {
          "output_type": "stream",
          "text": [
            "Running Linear SVM\n",
            "[0.87363061 0.86545286 0.8745564  0.8742478  0.87548218 0.86946459\n",
            " 0.87808642 0.87685185 0.87361111 0.86867284]\n",
            "Running Logistic Regression\n"
          ],
          "name": "stdout"
        },
        {
          "output_type": "stream",
          "text": [
            "/usr/local/lib/python3.7/dist-packages/sklearn/linear_model/_logistic.py:940: ConvergenceWarning:\n",
            "\n",
            "lbfgs failed to converge (status=1):\n",
            "STOP: TOTAL NO. of ITERATIONS REACHED LIMIT.\n",
            "\n",
            "Increase the number of iterations (max_iter) or scale the data as shown in:\n",
            "    https://scikit-learn.org/stable/modules/preprocessing.html\n",
            "Please also refer to the documentation for alternative solver options:\n",
            "    https://scikit-learn.org/stable/modules/linear_model.html#logistic-regression\n",
            "\n",
            "/usr/local/lib/python3.7/dist-packages/sklearn/linear_model/_logistic.py:940: ConvergenceWarning:\n",
            "\n",
            "lbfgs failed to converge (status=1):\n",
            "STOP: TOTAL NO. of ITERATIONS REACHED LIMIT.\n",
            "\n",
            "Increase the number of iterations (max_iter) or scale the data as shown in:\n",
            "    https://scikit-learn.org/stable/modules/preprocessing.html\n",
            "Please also refer to the documentation for alternative solver options:\n",
            "    https://scikit-learn.org/stable/modules/linear_model.html#logistic-regression\n",
            "\n",
            "/usr/local/lib/python3.7/dist-packages/sklearn/linear_model/_logistic.py:940: ConvergenceWarning:\n",
            "\n",
            "lbfgs failed to converge (status=1):\n",
            "STOP: TOTAL NO. of ITERATIONS REACHED LIMIT.\n",
            "\n",
            "Increase the number of iterations (max_iter) or scale the data as shown in:\n",
            "    https://scikit-learn.org/stable/modules/preprocessing.html\n",
            "Please also refer to the documentation for alternative solver options:\n",
            "    https://scikit-learn.org/stable/modules/linear_model.html#logistic-regression\n",
            "\n",
            "/usr/local/lib/python3.7/dist-packages/sklearn/linear_model/_logistic.py:940: ConvergenceWarning:\n",
            "\n",
            "lbfgs failed to converge (status=1):\n",
            "STOP: TOTAL NO. of ITERATIONS REACHED LIMIT.\n",
            "\n",
            "Increase the number of iterations (max_iter) or scale the data as shown in:\n",
            "    https://scikit-learn.org/stable/modules/preprocessing.html\n",
            "Please also refer to the documentation for alternative solver options:\n",
            "    https://scikit-learn.org/stable/modules/linear_model.html#logistic-regression\n",
            "\n",
            "/usr/local/lib/python3.7/dist-packages/sklearn/linear_model/_logistic.py:940: ConvergenceWarning:\n",
            "\n",
            "lbfgs failed to converge (status=1):\n",
            "STOP: TOTAL NO. of ITERATIONS REACHED LIMIT.\n",
            "\n",
            "Increase the number of iterations (max_iter) or scale the data as shown in:\n",
            "    https://scikit-learn.org/stable/modules/preprocessing.html\n",
            "Please also refer to the documentation for alternative solver options:\n",
            "    https://scikit-learn.org/stable/modules/linear_model.html#logistic-regression\n",
            "\n",
            "/usr/local/lib/python3.7/dist-packages/sklearn/linear_model/_logistic.py:940: ConvergenceWarning:\n",
            "\n",
            "lbfgs failed to converge (status=1):\n",
            "STOP: TOTAL NO. of ITERATIONS REACHED LIMIT.\n",
            "\n",
            "Increase the number of iterations (max_iter) or scale the data as shown in:\n",
            "    https://scikit-learn.org/stable/modules/preprocessing.html\n",
            "Please also refer to the documentation for alternative solver options:\n",
            "    https://scikit-learn.org/stable/modules/linear_model.html#logistic-regression\n",
            "\n",
            "/usr/local/lib/python3.7/dist-packages/sklearn/linear_model/_logistic.py:940: ConvergenceWarning:\n",
            "\n",
            "lbfgs failed to converge (status=1):\n",
            "STOP: TOTAL NO. of ITERATIONS REACHED LIMIT.\n",
            "\n",
            "Increase the number of iterations (max_iter) or scale the data as shown in:\n",
            "    https://scikit-learn.org/stable/modules/preprocessing.html\n",
            "Please also refer to the documentation for alternative solver options:\n",
            "    https://scikit-learn.org/stable/modules/linear_model.html#logistic-regression\n",
            "\n"
          ],
          "name": "stderr"
        },
        {
          "output_type": "stream",
          "text": [
            "[0.88057399 0.87856812 0.88859744 0.88103688 0.87224194 0.87625366\n",
            " 0.8779321  0.8816358  0.87839506 0.88240741]\n",
            "Running K-Nearest Neighbors\n",
            "[0.76824564 0.76762845 0.759605   0.75127295 0.75698195 0.75867922\n",
            " 0.76311728 0.76049383 0.76064815 0.74830247]\n"
          ],
          "name": "stdout"
        },
        {
          "output_type": "execute_result",
          "data": {
            "text/plain": [
              "Text(0, 0.5, 'Accuracy')"
            ]
          },
          "metadata": {
            "tags": []
          },
          "execution_count": 128
        },
        {
          "output_type": "display_data",
          "data": {
            "image/png": "[encoded data removed]",
            "text/plain": [
              "<Figure size 1080x576 with 1 Axes>"
            ]
          },
          "metadata": {
            "tags": [],
            "needs_background": "light"
          }
        }
      ]
    },
    {
      "cell_type": "markdown",
      "metadata": {
        "id": "M0vqeJuvK081"
      },
      "source": [
        "### **5. Nhận xét :**\n",
        "* 2 thuật toán SVM và Logistic Regression đều cho accuracy >= 0.85, chỉ riêng K-Neighbors thấp hơn rất nhiều nên sẽ không sử dụng để predict.\n",
        "*\n",
        "* Các model đều cho thấy accuracy của dữ liệu khi xử lý bằng CountVectorizer và TF-IDF Vectorizer đều tương đương nhau.\n",
        "* Còn về Word2vec, vì việc xử lý quá lớn và do chưa tìm được thư viện từ vựng thích hợp nên chúng em không áp dụng.\n",
        "* Như đã nói ở phía trước, việc mất cân bằng dữ liệu, cụ thể class 0 (báo chính thống) quá cáo khiến cho việc dự đoán class 0 dự đoán đúng rất nhiều và class 1 (scram) sai khá nhiều và bị lệch kha khá vào class 0 (Chúng ta có thể thấy qua bàng confusion matrix)."
      ]
    },
    {
      "cell_type": "markdown",
      "metadata": {
        "id": "Df1x2Y1pZveP"
      },
      "source": [
        "## **V. Nhận xét chung :**\n",
        "1.   Về việc xây dựng với 6 trang đã thu thập từ trước, vì đây là bài toán Binary Classificationn nên các model mà nhóm chọn có kết quả tương đương nhau nhưng Logistic Regression có kết quả cao nhất (acc ~ 0.88), thấp nhất là K-Nearest Neighbors (acc ~ 0.74)\n",
        "2. Trong quá trình thu thập, nhóm đã tăng số trang báo scram lên nhưng data vẫn bị lệch khiến cho dữ liệu mất cân bằng nhưng nhìn chung accuracy ở mức 0,8x vẫn chấp nhận được.\n",
        "\n"
      ]
    },
    {
      "cell_type": "markdown",
      "metadata": {
        "id": "4NZJF2e9FNR1"
      },
      "source": [
        "## **VI. Nguồn tham khảo :** [Github nhóm bạn Vinh](https://github.com/VinhPhamBG/CS114.L21/blob/main/Sarcasm_detection.ipynb?fbclid=IwAR2RZxnrmzgHeCywb7hGWMkdI7UjMVhtBlZsxmvGJ2U26vMYY1TkYJmmejI)"
      ]
    }
  ]
}